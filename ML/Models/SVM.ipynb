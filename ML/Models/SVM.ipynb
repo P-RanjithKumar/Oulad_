{
  "cells": [
    {
      "cell_type": "markdown",
      "metadata": {
        "id": "4gPRO941jiRs"
      },
      "source": [
        "# importing neccessary libraries"
      ]
    },
    {
      "cell_type": "code",
      "execution_count": 1,
      "metadata": {
        "id": "w6Mr9_j0fDCs"
      },
      "outputs": [],
      "source": [
        "import pandas as pd\n",
        "from sklearn.svm import SVC\n",
        "from sklearn.pipeline import Pipeline\n",
        "from sklearn.metrics import accuracy_score\n",
        "from sklearn.preprocessing import StandardScaler\n",
        "from sklearn.impute import SimpleImputer\n",
        "from sklearn.model_selection import train_test_split, GridSearchCV\n",
        "from joblib import Parallel, parallel_backend"
      ]
    },
    {
      "cell_type": "markdown",
      "source": [
        "# import the dataset"
      ],
      "metadata": {
        "id": "SpQhnuMqPpb2"
      }
    },
    {
      "cell_type": "code",
      "source": [
        "data = pd.read_csv(\"/content/drive/MyDrive/results/i5_final_dataset.csv\")"
      ],
      "metadata": {
        "id": "ymmq9oN9PuUI"
      },
      "execution_count": 2,
      "outputs": []
    },
    {
      "cell_type": "code",
      "source": [
        "print(data.head)"
      ],
      "metadata": {
        "id": "q0Jir0P5eO_1"
      },
      "execution_count": null,
      "outputs": []
    },
    {
      "cell_type": "code",
      "execution_count": 4,
      "metadata": {
        "id": "MwrdPNjjgX_W"
      },
      "outputs": [],
      "source": [
        "features = data.drop(columns=['final_result'],axis=1)\n",
        "target = data['final_result']"
      ]
    },
    {
      "cell_type": "code",
      "execution_count": 5,
      "metadata": {
        "id": "AhaM6uBW3uzS"
      },
      "outputs": [],
      "source": [
        "data = data.loc[:, ~data.columns.str.contains('^Unnamed')]"
      ]
    },
    {
      "cell_type": "markdown",
      "metadata": {
        "id": "TK4AZIGCyknd"
      },
      "source": [
        "> standardization process"
      ]
    },
    {
      "cell_type": "code",
      "execution_count": 6,
      "metadata": {
        "id": "uKP_fj9ZwpC5"
      },
      "outputs": [],
      "source": [
        "scaler = StandardScaler()\n",
        "scaler.fit(features)\n",
        "features = scaler.transform(features)"
      ]
    },
    {
      "cell_type": "markdown",
      "metadata": {
        "id": "I4-QGP720fP4"
      },
      "source": [
        "> train/tests splitting"
      ]
    },
    {
      "cell_type": "code",
      "execution_count": 7,
      "metadata": {
        "id": "n8uZ-ERy0iCK"
      },
      "outputs": [],
      "source": [
        "X_train,X_tests,Y_train,Y_tests = train_test_split(features,target,test_size=0.2,random_state=45)"
      ]
    },
    {
      "cell_type": "code",
      "execution_count": 8,
      "metadata": {
        "id": "0aLc7y6BNCQZ"
      },
      "outputs": [],
      "source": [
        "imputer = SimpleImputer(strategy='mean')\n",
        "X_train = imputer.fit_transform(X_train)\n",
        "X_tests = imputer.transform(X_tests)"
      ]
    },
    {
      "cell_type": "markdown",
      "source": [
        "# Train/Test the model"
      ],
      "metadata": {
        "id": "k_Q303FCk-sL"
      }
    },
    {
      "cell_type": "markdown",
      "metadata": {
        "id": "u1aCzG2i0FLm"
      },
      "source": [
        "training the model"
      ]
    },
    {
      "cell_type": "code",
      "source": [
        "def selector_func:\n",
        "  x = int(input(\"Either with(1) or without(2) hyperparameter param_grid use\"))\n",
        "  if x==1:\n",
        "    func_1()\n",
        "  if x==2:\n",
        "    func_2()\n",
        "  else:\n",
        "    print(\"wrong input..............\")\n",
        "selector_func()"
      ],
      "metadata": {
        "id": "h-yu0YIzOe2k"
      },
      "execution_count": null,
      "outputs": []
    },
    {
      "cell_type": "code",
      "execution_count": null,
      "metadata": {
        "id": "s_VmpL7e0JBm"
      },
      "outputs": [],
      "source": [
        "def func_1:\n",
        "  classifier = SVC(kernel='rbf')\n",
        "  classifier.fit(X_train,Y_train)"
      ]
    },
    {
      "cell_type": "code",
      "source": [
        "def func_2:\n",
        "  # Define the model\n",
        "  classifier = SVC()\n",
        "\n",
        "  # Define the parameter grid\n",
        "  param_grid = {\n",
        "      'C': [0.1, 1, 10, 100],\n",
        "      'gamma': [1, 0.1, 0.01, 0.001],\n",
        "      'kernel': ['rbf']\n",
        "  }\n",
        "\n",
        "  # Use GridSearchCV with parallel processing\n",
        "  with parallel_backend('loky', n_jobs=-1):\n",
        "      grid_search = GridSearchCV(estimator=classifier, param_grid=param_grid, cv=5, verbose=2, n_jobs=-1)\n",
        "      grid_search.fit(X_train, Y_train)\n",
        "\n",
        "  # Get the best model\n",
        "  best_classifier = grid_search.best_estimator_\n",
        "  classifier = best_classifier"
      ],
      "metadata": {
        "id": "8RkCyI5lNUuD"
      },
      "execution_count": null,
      "outputs": []
    },
    {
      "cell_type": "code",
      "execution_count": null,
      "metadata": {
        "id": "OPxqVrOa1Evm"
      },
      "outputs": [],
      "source": [
        "pre_score_train = classifier.predict(X_train)\n",
        "acc_score_train = accuracy_score(pre_score_train,Y_train)\n",
        "print(acc_score_train)"
      ]
    },
    {
      "cell_type": "code",
      "execution_count": null,
      "metadata": {
        "id": "22XyTmYh68yi"
      },
      "outputs": [],
      "source": [
        "pre_score_tests = classifier.predict(X_tests)\n",
        "acc_score_tests = accuracy_score(pre_score_tests,Y_tests)\n",
        "print(acc_score_tests)"
      ]
    },
    {
      "cell_type": "markdown",
      "source": [
        "# save the results into a file"
      ],
      "metadata": {
        "id": "HL-pJsUPQiAj"
      }
    },
    {
      "cell_type": "code",
      "execution_count": null,
      "metadata": {
        "id": "u8BG5K5GFz9F"
      },
      "outputs": [],
      "source": [
        "# Save the accuracy score to a text file\n",
        "acc_score_train = round(acc_score_train*100 , 3)\n",
        "acc_score_tests = round(acc_score_tests*100 , 3)\n",
        "\n",
        "file_path_txt = '/content/drive/MyDrive/results/ACC_SCORE.txt'\n",
        "with open(file_path_txt, 'a') as file:\n",
        "    file.write(f'Accuracy Score using rbf with data_1: {acc_score_train}')\n",
        "    file.write('\\n')\n",
        "    file.write(f'Accuracy Score using rbf with data_1: {acc_score_tests}')\n",
        "    file.write('\\n...................................................................................................\\n')"
      ]
    }
  ],
  "metadata": {
    "colab": {
      "collapsed_sections": [
        "MAhVK1dA2WNr",
        "NFXu0BzCMyDP",
        "k_Q303FCk-sL",
        "yvALIGMsjf3T"
      ],
      "provenance": []
    },
    "kernelspec": {
      "display_name": "Python 3",
      "name": "python3"
    },
    "language_info": {
      "name": "python"
    }
  },
  "nbformat": 4,
  "nbformat_minor": 0
}