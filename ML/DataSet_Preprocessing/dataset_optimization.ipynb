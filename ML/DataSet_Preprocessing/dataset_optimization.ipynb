{
  "cells": [
    {
      "cell_type": "markdown",
      "source": [
        "# importing neccessary libraries"
      ],
      "metadata": {
        "id": "yIXWhXQfH3OP"
      }
    },
    {
      "cell_type": "code",
      "execution_count": null,
      "metadata": {
        "id": "THmRJpKNwGG-"
      },
      "outputs": [],
      "source": [
        "import pandas as pd\n",
        "import csv\n",
        "import dask.dataframe as dd\n",
        "from sklearn.impute import SimpleImputer\n",
        "from sklearn.svm import SVC\n",
        "from sklearn.pipeline import Pipeline\n",
        "from sklearn.metrics import accuracy_score\n",
        "from sklearn.preprocessing import StandardScaler,LabelEncoder,OneHotEncoder\n",
        "from sklearn.model_selection import train_test_split, GridSearchCV"
      ]
    },
    {
      "cell_type": "markdown",
      "source": [
        "we are using \"data_table\" library for a neat interactive tables"
      ],
      "metadata": {
        "id": "TVti3uLIHiqB"
      }
    },
    {
      "cell_type": "code",
      "source": [
        "from google.colab import data_table\n",
        "data_table.enable_dataframe_formatter()"
      ],
      "metadata": {
        "id": "f3nxYcM-Hhji"
      },
      "execution_count": null,
      "outputs": []
    },
    {
      "cell_type": "markdown",
      "metadata": {
        "id": "EoWpR_GmoCwN"
      },
      "source": [
        "# 1) assessments & courses"
      ]
    },
    {
      "cell_type": "code",
      "execution_count": null,
      "metadata": {
        "id": "ku_mx53ujPCd"
      },
      "outputs": [],
      "source": [
        "\n",
        "ass1 = pd.read_csv(\"/content/drive/MyDrive/dataset_optimization_folder/assessments.csv\")\n",
        "course1 = pd.read_csv(\"/content/drive/MyDrive/dataset_optimization_folder/courses.csv\")\n",
        "ass1 = ass1.drop(['assessment_type'],axis=1)\n",
        "i1 = pd.merge(ass1,course1,on=['code_module','code_presentation'],how = 'inner')"
      ]
    },
    {
      "cell_type": "code",
      "execution_count": null,
      "metadata": {
        "colab": {
          "base_uri": "https://localhost:8080/",
          "height": 791
        },
        "id": "k2XDDaQbm_ct",
        "outputId": "99895f46-0fdf-4eea-961f-c2d44c3399c2"
      },
      "outputs": [
        {
          "output_type": "stream",
          "name": "stdout",
          "text": [
            "code_module                    0\n",
            "code_presentation              0\n",
            "id_assessment                  0\n",
            "date                          11\n",
            "weight                         0\n",
            "module_presentation_length     0\n",
            "dtype: int64\n"
          ]
        },
        {
          "output_type": "execute_result",
          "data": {
            "text/plain": [
              "    code_module code_presentation  id_assessment  date  weight\n",
              "0           AAA             2013J           1752    19      10\n",
              "1           AAA             2013J           1753    54      20\n",
              "2           AAA             2013J           1754   117      20\n",
              "3           AAA             2013J           1755   166      20\n",
              "4           AAA             2013J           1756   215      30\n",
              "..          ...               ...            ...   ...     ...\n",
              "201         GGG             2014J          37443   229       0\n",
              "202         GGG             2014J          37435    61       0\n",
              "203         GGG             2014J          37436   124       0\n",
              "204         GGG             2014J          37437   173       0\n",
              "205         GGG             2014J          37444   229     100\n",
              "\n",
              "[206 rows x 5 columns]"
            ],
            "text/html": [
              "\n",
              "  <div id=\"df-bf49b234-2b79-4c95-b326-6f5bb959d912\" class=\"colab-df-container\">\n",
              "    <div>\n",
              "<style scoped>\n",
              "    .dataframe tbody tr th:only-of-type {\n",
              "        vertical-align: middle;\n",
              "    }\n",
              "\n",
              "    .dataframe tbody tr th {\n",
              "        vertical-align: top;\n",
              "    }\n",
              "\n",
              "    .dataframe thead th {\n",
              "        text-align: right;\n",
              "    }\n",
              "</style>\n",
              "<table border=\"1\" class=\"dataframe\">\n",
              "  <thead>\n",
              "    <tr style=\"text-align: right;\">\n",
              "      <th></th>\n",
              "      <th>code_module</th>\n",
              "      <th>code_presentation</th>\n",
              "      <th>id_assessment</th>\n",
              "      <th>date</th>\n",
              "      <th>weight</th>\n",
              "    </tr>\n",
              "  </thead>\n",
              "  <tbody>\n",
              "    <tr>\n",
              "      <th>0</th>\n",
              "      <td>AAA</td>\n",
              "      <td>2013J</td>\n",
              "      <td>1752</td>\n",
              "      <td>19</td>\n",
              "      <td>10</td>\n",
              "    </tr>\n",
              "    <tr>\n",
              "      <th>1</th>\n",
              "      <td>AAA</td>\n",
              "      <td>2013J</td>\n",
              "      <td>1753</td>\n",
              "      <td>54</td>\n",
              "      <td>20</td>\n",
              "    </tr>\n",
              "    <tr>\n",
              "      <th>2</th>\n",
              "      <td>AAA</td>\n",
              "      <td>2013J</td>\n",
              "      <td>1754</td>\n",
              "      <td>117</td>\n",
              "      <td>20</td>\n",
              "    </tr>\n",
              "    <tr>\n",
              "      <th>3</th>\n",
              "      <td>AAA</td>\n",
              "      <td>2013J</td>\n",
              "      <td>1755</td>\n",
              "      <td>166</td>\n",
              "      <td>20</td>\n",
              "    </tr>\n",
              "    <tr>\n",
              "      <th>4</th>\n",
              "      <td>AAA</td>\n",
              "      <td>2013J</td>\n",
              "      <td>1756</td>\n",
              "      <td>215</td>\n",
              "      <td>30</td>\n",
              "    </tr>\n",
              "    <tr>\n",
              "      <th>...</th>\n",
              "      <td>...</td>\n",
              "      <td>...</td>\n",
              "      <td>...</td>\n",
              "      <td>...</td>\n",
              "      <td>...</td>\n",
              "    </tr>\n",
              "    <tr>\n",
              "      <th>201</th>\n",
              "      <td>GGG</td>\n",
              "      <td>2014J</td>\n",
              "      <td>37443</td>\n",
              "      <td>229</td>\n",
              "      <td>0</td>\n",
              "    </tr>\n",
              "    <tr>\n",
              "      <th>202</th>\n",
              "      <td>GGG</td>\n",
              "      <td>2014J</td>\n",
              "      <td>37435</td>\n",
              "      <td>61</td>\n",
              "      <td>0</td>\n",
              "    </tr>\n",
              "    <tr>\n",
              "      <th>203</th>\n",
              "      <td>GGG</td>\n",
              "      <td>2014J</td>\n",
              "      <td>37436</td>\n",
              "      <td>124</td>\n",
              "      <td>0</td>\n",
              "    </tr>\n",
              "    <tr>\n",
              "      <th>204</th>\n",
              "      <td>GGG</td>\n",
              "      <td>2014J</td>\n",
              "      <td>37437</td>\n",
              "      <td>173</td>\n",
              "      <td>0</td>\n",
              "    </tr>\n",
              "    <tr>\n",
              "      <th>205</th>\n",
              "      <td>GGG</td>\n",
              "      <td>2014J</td>\n",
              "      <td>37444</td>\n",
              "      <td>229</td>\n",
              "      <td>100</td>\n",
              "    </tr>\n",
              "  </tbody>\n",
              "</table>\n",
              "<p>206 rows × 5 columns</p>\n",
              "</div>\n",
              "    <div class=\"colab-df-buttons\">\n",
              "\n",
              "  <div class=\"colab-df-container\">\n",
              "    <button class=\"colab-df-convert\" onclick=\"convertToInteractive('df-bf49b234-2b79-4c95-b326-6f5bb959d912')\"\n",
              "            title=\"Convert this dataframe to an interactive table.\"\n",
              "            style=\"display:none;\">\n",
              "\n",
              "  <svg xmlns=\"http://www.w3.org/2000/svg\" height=\"24px\" viewBox=\"0 -960 960 960\">\n",
              "    <path d=\"M120-120v-720h720v720H120Zm60-500h600v-160H180v160Zm220 220h160v-160H400v160Zm0 220h160v-160H400v160ZM180-400h160v-160H180v160Zm440 0h160v-160H620v160ZM180-180h160v-160H180v160Zm440 0h160v-160H620v160Z\"/>\n",
              "  </svg>\n",
              "    </button>\n",
              "\n",
              "  <style>\n",
              "    .colab-df-container {\n",
              "      display:flex;\n",
              "      gap: 12px;\n",
              "    }\n",
              "\n",
              "    .colab-df-convert {\n",
              "      background-color: #E8F0FE;\n",
              "      border: none;\n",
              "      border-radius: 50%;\n",
              "      cursor: pointer;\n",
              "      display: none;\n",
              "      fill: #1967D2;\n",
              "      height: 32px;\n",
              "      padding: 0 0 0 0;\n",
              "      width: 32px;\n",
              "    }\n",
              "\n",
              "    .colab-df-convert:hover {\n",
              "      background-color: #E2EBFA;\n",
              "      box-shadow: 0px 1px 2px rgba(60, 64, 67, 0.3), 0px 1px 3px 1px rgba(60, 64, 67, 0.15);\n",
              "      fill: #174EA6;\n",
              "    }\n",
              "\n",
              "    .colab-df-buttons div {\n",
              "      margin-bottom: 4px;\n",
              "    }\n",
              "\n",
              "    [theme=dark] .colab-df-convert {\n",
              "      background-color: #3B4455;\n",
              "      fill: #D2E3FC;\n",
              "    }\n",
              "\n",
              "    [theme=dark] .colab-df-convert:hover {\n",
              "      background-color: #434B5C;\n",
              "      box-shadow: 0px 1px 3px 1px rgba(0, 0, 0, 0.15);\n",
              "      filter: drop-shadow(0px 1px 2px rgba(0, 0, 0, 0.3));\n",
              "      fill: #FFFFFF;\n",
              "    }\n",
              "  </style>\n",
              "\n",
              "    <script>\n",
              "      const buttonEl =\n",
              "        document.querySelector('#df-bf49b234-2b79-4c95-b326-6f5bb959d912 button.colab-df-convert');\n",
              "      buttonEl.style.display =\n",
              "        google.colab.kernel.accessAllowed ? 'block' : 'none';\n",
              "\n",
              "      async function convertToInteractive(key) {\n",
              "        const element = document.querySelector('#df-bf49b234-2b79-4c95-b326-6f5bb959d912');\n",
              "        const dataTable =\n",
              "          await google.colab.kernel.invokeFunction('convertToInteractive',\n",
              "                                                    [key], {});\n",
              "        if (!dataTable) return;\n",
              "\n",
              "        const docLinkHtml = 'Like what you see? Visit the ' +\n",
              "          '<a target=\"_blank\" href=https://colab.research.google.com/notebooks/data_table.ipynb>data table notebook</a>'\n",
              "          + ' to learn more about interactive tables.';\n",
              "        element.innerHTML = '';\n",
              "        dataTable['output_type'] = 'display_data';\n",
              "        await google.colab.output.renderOutput(dataTable, element);\n",
              "        const docLink = document.createElement('div');\n",
              "        docLink.innerHTML = docLinkHtml;\n",
              "        element.appendChild(docLink);\n",
              "      }\n",
              "    </script>\n",
              "  </div>\n",
              "\n",
              "\n",
              "<div id=\"df-dd5d2f53-83b6-42c1-b533-4e570712ef1b\">\n",
              "  <button class=\"colab-df-quickchart\" onclick=\"quickchart('df-dd5d2f53-83b6-42c1-b533-4e570712ef1b')\"\n",
              "            title=\"Suggest charts\"\n",
              "            style=\"display:none;\">\n",
              "\n",
              "<svg xmlns=\"http://www.w3.org/2000/svg\" height=\"24px\"viewBox=\"0 0 24 24\"\n",
              "     width=\"24px\">\n",
              "    <g>\n",
              "        <path d=\"M19 3H5c-1.1 0-2 .9-2 2v14c0 1.1.9 2 2 2h14c1.1 0 2-.9 2-2V5c0-1.1-.9-2-2-2zM9 17H7v-7h2v7zm4 0h-2V7h2v10zm4 0h-2v-4h2v4z\"/>\n",
              "    </g>\n",
              "</svg>\n",
              "  </button>\n",
              "\n",
              "<style>\n",
              "  .colab-df-quickchart {\n",
              "      --bg-color: #E8F0FE;\n",
              "      --fill-color: #1967D2;\n",
              "      --hover-bg-color: #E2EBFA;\n",
              "      --hover-fill-color: #174EA6;\n",
              "      --disabled-fill-color: #AAA;\n",
              "      --disabled-bg-color: #DDD;\n",
              "  }\n",
              "\n",
              "  [theme=dark] .colab-df-quickchart {\n",
              "      --bg-color: #3B4455;\n",
              "      --fill-color: #D2E3FC;\n",
              "      --hover-bg-color: #434B5C;\n",
              "      --hover-fill-color: #FFFFFF;\n",
              "      --disabled-bg-color: #3B4455;\n",
              "      --disabled-fill-color: #666;\n",
              "  }\n",
              "\n",
              "  .colab-df-quickchart {\n",
              "    background-color: var(--bg-color);\n",
              "    border: none;\n",
              "    border-radius: 50%;\n",
              "    cursor: pointer;\n",
              "    display: none;\n",
              "    fill: var(--fill-color);\n",
              "    height: 32px;\n",
              "    padding: 0;\n",
              "    width: 32px;\n",
              "  }\n",
              "\n",
              "  .colab-df-quickchart:hover {\n",
              "    background-color: var(--hover-bg-color);\n",
              "    box-shadow: 0 1px 2px rgba(60, 64, 67, 0.3), 0 1px 3px 1px rgba(60, 64, 67, 0.15);\n",
              "    fill: var(--button-hover-fill-color);\n",
              "  }\n",
              "\n",
              "  .colab-df-quickchart-complete:disabled,\n",
              "  .colab-df-quickchart-complete:disabled:hover {\n",
              "    background-color: var(--disabled-bg-color);\n",
              "    fill: var(--disabled-fill-color);\n",
              "    box-shadow: none;\n",
              "  }\n",
              "\n",
              "  .colab-df-spinner {\n",
              "    border: 2px solid var(--fill-color);\n",
              "    border-color: transparent;\n",
              "    border-bottom-color: var(--fill-color);\n",
              "    animation:\n",
              "      spin 1s steps(1) infinite;\n",
              "  }\n",
              "\n",
              "  @keyframes spin {\n",
              "    0% {\n",
              "      border-color: transparent;\n",
              "      border-bottom-color: var(--fill-color);\n",
              "      border-left-color: var(--fill-color);\n",
              "    }\n",
              "    20% {\n",
              "      border-color: transparent;\n",
              "      border-left-color: var(--fill-color);\n",
              "      border-top-color: var(--fill-color);\n",
              "    }\n",
              "    30% {\n",
              "      border-color: transparent;\n",
              "      border-left-color: var(--fill-color);\n",
              "      border-top-color: var(--fill-color);\n",
              "      border-right-color: var(--fill-color);\n",
              "    }\n",
              "    40% {\n",
              "      border-color: transparent;\n",
              "      border-right-color: var(--fill-color);\n",
              "      border-top-color: var(--fill-color);\n",
              "    }\n",
              "    60% {\n",
              "      border-color: transparent;\n",
              "      border-right-color: var(--fill-color);\n",
              "    }\n",
              "    80% {\n",
              "      border-color: transparent;\n",
              "      border-right-color: var(--fill-color);\n",
              "      border-bottom-color: var(--fill-color);\n",
              "    }\n",
              "    90% {\n",
              "      border-color: transparent;\n",
              "      border-bottom-color: var(--fill-color);\n",
              "    }\n",
              "  }\n",
              "</style>\n",
              "\n",
              "  <script>\n",
              "    async function quickchart(key) {\n",
              "      const quickchartButtonEl =\n",
              "        document.querySelector('#' + key + ' button');\n",
              "      quickchartButtonEl.disabled = true;  // To prevent multiple clicks.\n",
              "      quickchartButtonEl.classList.add('colab-df-spinner');\n",
              "      try {\n",
              "        const charts = await google.colab.kernel.invokeFunction(\n",
              "            'suggestCharts', [key], {});\n",
              "      } catch (error) {\n",
              "        console.error('Error during call to suggestCharts:', error);\n",
              "      }\n",
              "      quickchartButtonEl.classList.remove('colab-df-spinner');\n",
              "      quickchartButtonEl.classList.add('colab-df-quickchart-complete');\n",
              "    }\n",
              "    (() => {\n",
              "      let quickchartButtonEl =\n",
              "        document.querySelector('#df-dd5d2f53-83b6-42c1-b533-4e570712ef1b button');\n",
              "      quickchartButtonEl.style.display =\n",
              "        google.colab.kernel.accessAllowed ? 'block' : 'none';\n",
              "    })();\n",
              "  </script>\n",
              "</div>\n",
              "\n",
              "  <div id=\"id_68eeff79-b26a-4277-ac11-dae5e67c271a\">\n",
              "    <style>\n",
              "      .colab-df-generate {\n",
              "        background-color: #E8F0FE;\n",
              "        border: none;\n",
              "        border-radius: 50%;\n",
              "        cursor: pointer;\n",
              "        display: none;\n",
              "        fill: #1967D2;\n",
              "        height: 32px;\n",
              "        padding: 0 0 0 0;\n",
              "        width: 32px;\n",
              "      }\n",
              "\n",
              "      .colab-df-generate:hover {\n",
              "        background-color: #E2EBFA;\n",
              "        box-shadow: 0px 1px 2px rgba(60, 64, 67, 0.3), 0px 1px 3px 1px rgba(60, 64, 67, 0.15);\n",
              "        fill: #174EA6;\n",
              "      }\n",
              "\n",
              "      [theme=dark] .colab-df-generate {\n",
              "        background-color: #3B4455;\n",
              "        fill: #D2E3FC;\n",
              "      }\n",
              "\n",
              "      [theme=dark] .colab-df-generate:hover {\n",
              "        background-color: #434B5C;\n",
              "        box-shadow: 0px 1px 3px 1px rgba(0, 0, 0, 0.15);\n",
              "        filter: drop-shadow(0px 1px 2px rgba(0, 0, 0, 0.3));\n",
              "        fill: #FFFFFF;\n",
              "      }\n",
              "    </style>\n",
              "    <button class=\"colab-df-generate\" onclick=\"generateWithVariable('i1')\"\n",
              "            title=\"Generate code using this dataframe.\"\n",
              "            style=\"display:none;\">\n",
              "\n",
              "  <svg xmlns=\"http://www.w3.org/2000/svg\" height=\"24px\"viewBox=\"0 0 24 24\"\n",
              "       width=\"24px\">\n",
              "    <path d=\"M7,19H8.4L18.45,9,17,7.55,7,17.6ZM5,21V16.75L18.45,3.32a2,2,0,0,1,2.83,0l1.4,1.43a1.91,1.91,0,0,1,.58,1.4,1.91,1.91,0,0,1-.58,1.4L9.25,21ZM18.45,9,17,7.55Zm-12,3A5.31,5.31,0,0,0,4.9,8.1,5.31,5.31,0,0,0,1,6.5,5.31,5.31,0,0,0,4.9,4.9,5.31,5.31,0,0,0,6.5,1,5.31,5.31,0,0,0,8.1,4.9,5.31,5.31,0,0,0,12,6.5,5.46,5.46,0,0,0,6.5,12Z\"/>\n",
              "  </svg>\n",
              "    </button>\n",
              "    <script>\n",
              "      (() => {\n",
              "      const buttonEl =\n",
              "        document.querySelector('#id_68eeff79-b26a-4277-ac11-dae5e67c271a button.colab-df-generate');\n",
              "      buttonEl.style.display =\n",
              "        google.colab.kernel.accessAllowed ? 'block' : 'none';\n",
              "\n",
              "      buttonEl.onclick = () => {\n",
              "        google.colab.notebook.generateWithVariable('i1');\n",
              "      }\n",
              "      })();\n",
              "    </script>\n",
              "  </div>\n",
              "\n",
              "    </div>\n",
              "  </div>\n"
            ],
            "application/vnd.google.colaboratory.intrinsic+json": {
              "type": "dataframe",
              "variable_name": "i1",
              "summary": "{\n  \"name\": \"i1\",\n  \"rows\": 206,\n  \"fields\": [\n    {\n      \"column\": \"code_module\",\n      \"properties\": {\n        \"dtype\": \"category\",\n        \"num_unique_values\": 7,\n        \"samples\": [\n          \"AAA\",\n          \"BBB\",\n          \"FFF\"\n        ],\n        \"semantic_type\": \"\",\n        \"description\": \"\"\n      }\n    },\n    {\n      \"column\": \"code_presentation\",\n      \"properties\": {\n        \"dtype\": \"category\",\n        \"num_unique_values\": 4,\n        \"samples\": [\n          \"2014J\",\n          \"2014B\",\n          \"2013J\"\n        ],\n        \"semantic_type\": \"\",\n        \"description\": \"\"\n      }\n    },\n    {\n      \"column\": \"id_assessment\",\n      \"properties\": {\n        \"dtype\": \"number\",\n        \"std\": 10098,\n        \"min\": 1752,\n        \"max\": 40088,\n        \"num_unique_values\": 206,\n        \"samples\": [\n          14994,\n          1761,\n          37443\n        ],\n        \"semantic_type\": \"\",\n        \"description\": \"\"\n      }\n    },\n    {\n      \"column\": \"date\",\n      \"properties\": {\n        \"dtype\": \"int32\",\n        \"num_unique_values\": 75,\n        \"samples\": [\n          215,\n          173,\n          47\n        ],\n        \"semantic_type\": \"\",\n        \"description\": \"\"\n      }\n    },\n    {\n      \"column\": \"weight\",\n      \"properties\": {\n        \"dtype\": \"int32\",\n        \"num_unique_values\": 23,\n        \"samples\": [\n          4,\n          2,\n          10\n        ],\n        \"semantic_type\": \"\",\n        \"description\": \"\"\n      }\n    }\n  ]\n}"
            },
            "application/vnd.google.colaboratory.module+javascript": "\n      import \"https://ssl.gstatic.com/colaboratory/data_table/f565ec32c7e6656f/data_table.js\";\n\n      const table = window.createDataTable({\n        data: [[{\n            'v': 0,\n            'f': \"0\",\n        },\n\"AAA\",\n\"2013J\",\n{\n            'v': 1752,\n            'f': \"1752\",\n        },\n{\n            'v': 19,\n            'f': \"19\",\n        },\n{\n            'v': 10,\n            'f': \"10\",\n        }],\n [{\n            'v': 1,\n            'f': \"1\",\n        },\n\"AAA\",\n\"2013J\",\n{\n            'v': 1753,\n            'f': \"1753\",\n        },\n{\n            'v': 54,\n            'f': \"54\",\n        },\n{\n            'v': 20,\n            'f': \"20\",\n        }],\n [{\n            'v': 2,\n            'f': \"2\",\n        },\n\"AAA\",\n\"2013J\",\n{\n            'v': 1754,\n            'f': \"1754\",\n        },\n{\n            'v': 117,\n            'f': \"117\",\n        },\n{\n            'v': 20,\n            'f': \"20\",\n        }],\n [{\n            'v': 3,\n            'f': \"3\",\n        },\n\"AAA\",\n\"2013J\",\n{\n            'v': 1755,\n            'f': \"1755\",\n        },\n{\n            'v': 166,\n            'f': \"166\",\n        },\n{\n            'v': 20,\n            'f': \"20\",\n        }],\n [{\n            'v': 4,\n            'f': \"4\",\n        },\n\"AAA\",\n\"2013J\",\n{\n            'v': 1756,\n            'f': \"1756\",\n        },\n{\n            'v': 215,\n            'f': \"215\",\n        },\n{\n            'v': 30,\n            'f': \"30\",\n        }],\n [{\n            'v': 5,\n            'f': \"5\",\n        },\n\"AAA\",\n\"2013J\",\n{\n            'v': 1757,\n            'f': \"1757\",\n        },\n{\n            'v': 145,\n            'f': \"145\",\n        },\n{\n            'v': 100,\n            'f': \"100\",\n        }],\n [{\n            'v': 6,\n            'f': \"6\",\n        },\n\"AAA\",\n\"2014J\",\n{\n            'v': 1758,\n            'f': \"1758\",\n        },\n{\n            'v': 19,\n            'f': \"19\",\n        },\n{\n            'v': 10,\n            'f': \"10\",\n        }],\n [{\n            'v': 7,\n            'f': \"7\",\n        },\n\"AAA\",\n\"2014J\",\n{\n            'v': 1759,\n            'f': \"1759\",\n        },\n{\n            'v': 54,\n            'f': \"54\",\n        },\n{\n            'v': 20,\n            'f': \"20\",\n        }],\n [{\n            'v': 8,\n            'f': \"8\",\n        },\n\"AAA\",\n\"2014J\",\n{\n            'v': 1760,\n            'f': \"1760\",\n        },\n{\n            'v': 117,\n            'f': \"117\",\n        },\n{\n            'v': 20,\n            'f': \"20\",\n        }],\n [{\n            'v': 9,\n            'f': \"9\",\n        },\n\"AAA\",\n\"2014J\",\n{\n            'v': 1761,\n            'f': \"1761\",\n        },\n{\n            'v': 166,\n            'f': \"166\",\n        },\n{\n            'v': 20,\n            'f': \"20\",\n        }],\n [{\n            'v': 10,\n            'f': \"10\",\n        },\n\"AAA\",\n\"2014J\",\n{\n            'v': 1762,\n            'f': \"1762\",\n        },\n{\n            'v': 215,\n            'f': \"215\",\n        },\n{\n            'v': 30,\n            'f': \"30\",\n        }],\n [{\n            'v': 11,\n            'f': \"11\",\n        },\n\"AAA\",\n\"2014J\",\n{\n            'v': 1763,\n            'f': \"1763\",\n        },\n{\n            'v': 145,\n            'f': \"145\",\n        },\n{\n            'v': 100,\n            'f': \"100\",\n        }],\n [{\n            'v': 12,\n            'f': \"12\",\n        },\n\"BBB\",\n\"2013B\",\n{\n            'v': 14991,\n            'f': \"14991\",\n        },\n{\n            'v': 54,\n            'f': \"54\",\n        },\n{\n            'v': 1,\n            'f': \"1\",\n        }],\n [{\n            'v': 13,\n            'f': \"13\",\n        },\n\"BBB\",\n\"2013B\",\n{\n            'v': 14992,\n            'f': \"14992\",\n        },\n{\n            'v': 89,\n            'f': \"89\",\n        },\n{\n            'v': 1,\n            'f': \"1\",\n        }],\n [{\n            'v': 14,\n            'f': \"14\",\n        },\n\"BBB\",\n\"2013B\",\n{\n            'v': 14993,\n            'f': \"14993\",\n        },\n{\n            'v': 124,\n            'f': \"124\",\n        },\n{\n            'v': 1,\n            'f': \"1\",\n        }],\n [{\n            'v': 15,\n            'f': \"15\",\n        },\n\"BBB\",\n\"2013B\",\n{\n            'v': 14994,\n            'f': \"14994\",\n        },\n{\n            'v': 159,\n            'f': \"159\",\n        },\n{\n            'v': 1,\n            'f': \"1\",\n        }],\n [{\n            'v': 16,\n            'f': \"16\",\n        },\n\"BBB\",\n\"2013B\",\n{\n            'v': 14995,\n            'f': \"14995\",\n        },\n{\n            'v': 187,\n            'f': \"187\",\n        },\n{\n            'v': 1,\n            'f': \"1\",\n        }],\n [{\n            'v': 17,\n            'f': \"17\",\n        },\n\"BBB\",\n\"2013B\",\n{\n            'v': 14984,\n            'f': \"14984\",\n        },\n{\n            'v': 19,\n            'f': \"19\",\n        },\n{\n            'v': 5,\n            'f': \"5\",\n        }],\n [{\n            'v': 18,\n            'f': \"18\",\n        },\n\"BBB\",\n\"2013B\",\n{\n            'v': 14985,\n            'f': \"14985\",\n        },\n{\n            'v': 47,\n            'f': \"47\",\n        },\n{\n            'v': 18,\n            'f': \"18\",\n        }],\n [{\n            'v': 19,\n            'f': \"19\",\n        },\n\"BBB\",\n\"2013B\",\n{\n            'v': 14986,\n            'f': \"14986\",\n        },\n{\n            'v': 89,\n            'f': \"89\",\n        },\n{\n            'v': 18,\n            'f': \"18\",\n        }],\n [{\n            'v': 20,\n            'f': \"20\",\n        },\n\"BBB\",\n\"2013B\",\n{\n            'v': 14987,\n            'f': \"14987\",\n        },\n{\n            'v': 124,\n            'f': \"124\",\n        },\n{\n            'v': 18,\n            'f': \"18\",\n        }],\n [{\n            'v': 21,\n            'f': \"21\",\n        },\n\"BBB\",\n\"2013B\",\n{\n            'v': 14988,\n            'f': \"14988\",\n        },\n{\n            'v': 159,\n            'f': \"159\",\n        },\n{\n            'v': 18,\n            'f': \"18\",\n        }],\n [{\n            'v': 22,\n            'f': \"22\",\n        },\n\"BBB\",\n\"2013B\",\n{\n            'v': 14989,\n            'f': \"14989\",\n        },\n{\n            'v': 187,\n            'f': \"187\",\n        },\n{\n            'v': 18,\n            'f': \"18\",\n        }],\n [{\n            'v': 23,\n            'f': \"23\",\n        },\n\"BBB\",\n\"2013B\",\n{\n            'v': 14990,\n            'f': \"14990\",\n        },\n{\n            'v': 145,\n            'f': \"145\",\n        },\n{\n            'v': 100,\n            'f': \"100\",\n        }],\n [{\n            'v': 24,\n            'f': \"24\",\n        },\n\"BBB\",\n\"2013J\",\n{\n            'v': 15003,\n            'f': \"15003\",\n        },\n{\n            'v': 54,\n            'f': \"54\",\n        },\n{\n            'v': 1,\n            'f': \"1\",\n        }],\n [{\n            'v': 25,\n            'f': \"25\",\n        },\n\"BBB\",\n\"2013J\",\n{\n            'v': 15004,\n            'f': \"15004\",\n        },\n{\n            'v': 96,\n            'f': \"96\",\n        },\n{\n            'v': 1,\n            'f': \"1\",\n        }],\n [{\n            'v': 26,\n            'f': \"26\",\n        },\n\"BBB\",\n\"2013J\",\n{\n            'v': 15005,\n            'f': \"15005\",\n        },\n{\n            'v': 131,\n            'f': \"131\",\n        },\n{\n            'v': 1,\n            'f': \"1\",\n        }],\n [{\n            'v': 27,\n            'f': \"27\",\n        },\n\"BBB\",\n\"2013J\",\n{\n            'v': 15006,\n            'f': \"15006\",\n        },\n{\n            'v': 166,\n            'f': \"166\",\n        },\n{\n            'v': 1,\n            'f': \"1\",\n        }],\n [{\n            'v': 28,\n            'f': \"28\",\n        },\n\"BBB\",\n\"2013J\",\n{\n            'v': 15007,\n            'f': \"15007\",\n        },\n{\n            'v': 208,\n            'f': \"208\",\n        },\n{\n            'v': 1,\n            'f': \"1\",\n        }],\n [{\n            'v': 29,\n            'f': \"29\",\n        },\n\"BBB\",\n\"2013J\",\n{\n            'v': 14996,\n            'f': \"14996\",\n        },\n{\n            'v': 19,\n            'f': \"19\",\n        },\n{\n            'v': 5,\n            'f': \"5\",\n        }],\n [{\n            'v': 30,\n            'f': \"30\",\n        },\n\"BBB\",\n\"2013J\",\n{\n            'v': 14997,\n            'f': \"14997\",\n        },\n{\n            'v': 47,\n            'f': \"47\",\n        },\n{\n            'v': 18,\n            'f': \"18\",\n        }],\n [{\n            'v': 31,\n            'f': \"31\",\n        },\n\"BBB\",\n\"2013J\",\n{\n            'v': 14998,\n            'f': \"14998\",\n        },\n{\n            'v': 96,\n            'f': \"96\",\n        },\n{\n            'v': 18,\n            'f': \"18\",\n        }],\n [{\n            'v': 32,\n            'f': \"32\",\n        },\n\"BBB\",\n\"2013J\",\n{\n            'v': 14999,\n            'f': \"14999\",\n        },\n{\n            'v': 131,\n            'f': \"131\",\n        },\n{\n            'v': 18,\n            'f': \"18\",\n        }],\n [{\n            'v': 33,\n            'f': \"33\",\n        },\n\"BBB\",\n\"2013J\",\n{\n            'v': 15000,\n            'f': \"15000\",\n        },\n{\n            'v': 166,\n            'f': \"166\",\n        },\n{\n            'v': 18,\n            'f': \"18\",\n        }],\n [{\n            'v': 34,\n            'f': \"34\",\n        },\n\"BBB\",\n\"2013J\",\n{\n            'v': 15001,\n            'f': \"15001\",\n        },\n{\n            'v': 208,\n            'f': \"208\",\n        },\n{\n            'v': 18,\n            'f': \"18\",\n        }],\n [{\n            'v': 35,\n            'f': \"35\",\n        },\n\"BBB\",\n\"2013J\",\n{\n            'v': 15002,\n            'f': \"15002\",\n        },\n{\n            'v': 145,\n            'f': \"145\",\n        },\n{\n            'v': 100,\n            'f': \"100\",\n        }],\n [{\n            'v': 36,\n            'f': \"36\",\n        },\n\"BBB\",\n\"2014B\",\n{\n            'v': 15015,\n            'f': \"15015\",\n        },\n{\n            'v': 47,\n            'f': \"47\",\n        },\n{\n            'v': 1,\n            'f': \"1\",\n        }],\n [{\n            'v': 37,\n            'f': \"37\",\n        },\n\"BBB\",\n\"2014B\",\n{\n            'v': 15016,\n            'f': \"15016\",\n        },\n{\n            'v': 82,\n            'f': \"82\",\n        },\n{\n            'v': 1,\n            'f': \"1\",\n        }],\n [{\n            'v': 38,\n            'f': \"38\",\n        },\n\"BBB\",\n\"2014B\",\n{\n            'v': 15017,\n            'f': \"15017\",\n        },\n{\n            'v': 117,\n            'f': \"117\",\n        },\n{\n            'v': 1,\n            'f': \"1\",\n        }],\n [{\n            'v': 39,\n            'f': \"39\",\n        },\n\"BBB\",\n\"2014B\",\n{\n            'v': 15018,\n            'f': \"15018\",\n        },\n{\n            'v': 152,\n            'f': \"152\",\n        },\n{\n            'v': 1,\n            'f': \"1\",\n        }],\n [{\n            'v': 40,\n            'f': \"40\",\n        },\n\"BBB\",\n\"2014B\",\n{\n            'v': 15019,\n            'f': \"15019\",\n        },\n{\n            'v': 194,\n            'f': \"194\",\n        },\n{\n            'v': 1,\n            'f': \"1\",\n        }],\n [{\n            'v': 41,\n            'f': \"41\",\n        },\n\"BBB\",\n\"2014B\",\n{\n            'v': 15008,\n            'f': \"15008\",\n        },\n{\n            'v': 12,\n            'f': \"12\",\n        },\n{\n            'v': 5,\n            'f': \"5\",\n        }],\n [{\n            'v': 42,\n            'f': \"42\",\n        },\n\"BBB\",\n\"2014B\",\n{\n            'v': 15009,\n            'f': \"15009\",\n        },\n{\n            'v': 40,\n            'f': \"40\",\n        },\n{\n            'v': 18,\n            'f': \"18\",\n        }],\n [{\n            'v': 43,\n            'f': \"43\",\n        },\n\"BBB\",\n\"2014B\",\n{\n            'v': 15010,\n            'f': \"15010\",\n        },\n{\n            'v': 82,\n            'f': \"82\",\n        },\n{\n            'v': 18,\n            'f': \"18\",\n        }],\n [{\n            'v': 44,\n            'f': \"44\",\n        },\n\"BBB\",\n\"2014B\",\n{\n            'v': 15011,\n            'f': \"15011\",\n        },\n{\n            'v': 117,\n            'f': \"117\",\n        },\n{\n            'v': 18,\n            'f': \"18\",\n        }],\n [{\n            'v': 45,\n            'f': \"45\",\n        },\n\"BBB\",\n\"2014B\",\n{\n            'v': 15012,\n            'f': \"15012\",\n        },\n{\n            'v': 152,\n            'f': \"152\",\n        },\n{\n            'v': 18,\n            'f': \"18\",\n        }],\n [{\n            'v': 46,\n            'f': \"46\",\n        },\n\"BBB\",\n\"2014B\",\n{\n            'v': 15013,\n            'f': \"15013\",\n        },\n{\n            'v': 194,\n            'f': \"194\",\n        },\n{\n            'v': 18,\n            'f': \"18\",\n        }],\n [{\n            'v': 47,\n            'f': \"47\",\n        },\n\"BBB\",\n\"2014B\",\n{\n            'v': 15014,\n            'f': \"15014\",\n        },\n{\n            'v': 145,\n            'f': \"145\",\n        },\n{\n            'v': 100,\n            'f': \"100\",\n        }],\n [{\n            'v': 48,\n            'f': \"48\",\n        },\n\"BBB\",\n\"2014J\",\n{\n            'v': 15020,\n            'f': \"15020\",\n        },\n{\n            'v': 19,\n            'f': \"19\",\n        },\n{\n            'v': 0,\n            'f': \"0\",\n        }],\n [{\n            'v': 49,\n            'f': \"49\",\n        },\n\"BBB\",\n\"2014J\",\n{\n            'v': 15021,\n            'f': \"15021\",\n        },\n{\n            'v': 54,\n            'f': \"54\",\n        },\n{\n            'v': 10,\n            'f': \"10\",\n        }],\n [{\n            'v': 50,\n            'f': \"50\",\n        },\n\"BBB\",\n\"2014J\",\n{\n            'v': 15022,\n            'f': \"15022\",\n        },\n{\n            'v': 110,\n            'f': \"110\",\n        },\n{\n            'v': 20,\n            'f': \"20\",\n        }],\n [{\n            'v': 51,\n            'f': \"51\",\n        },\n\"BBB\",\n\"2014J\",\n{\n            'v': 15023,\n            'f': \"15023\",\n        },\n{\n            'v': 152,\n            'f': \"152\",\n        },\n{\n            'v': 35,\n            'f': \"35\",\n        }],\n [{\n            'v': 52,\n            'f': \"52\",\n        },\n\"BBB\",\n\"2014J\",\n{\n            'v': 15024,\n            'f': \"15024\",\n        },\n{\n            'v': 201,\n            'f': \"201\",\n        },\n{\n            'v': 35,\n            'f': \"35\",\n        }],\n [{\n            'v': 53,\n            'f': \"53\",\n        },\n\"BBB\",\n\"2014J\",\n{\n            'v': 15025,\n            'f': \"15025\",\n        },\n{\n            'v': 145,\n            'f': \"145\",\n        },\n{\n            'v': 100,\n            'f': \"100\",\n        }],\n [{\n            'v': 54,\n            'f': \"54\",\n        },\n\"CCC\",\n\"2014B\",\n{\n            'v': 24286,\n            'f': \"24286\",\n        },\n{\n            'v': 18,\n            'f': \"18\",\n        },\n{\n            'v': 2,\n            'f': \"2\",\n        }],\n [{\n            'v': 55,\n            'f': \"55\",\n        },\n\"CCC\",\n\"2014B\",\n{\n            'v': 24287,\n            'f': \"24287\",\n        },\n{\n            'v': 67,\n            'f': \"67\",\n        },\n{\n            'v': 7,\n            'f': \"7\",\n        }],\n [{\n            'v': 56,\n            'f': \"56\",\n        },\n\"CCC\",\n\"2014B\",\n{\n            'v': 24288,\n            'f': \"24288\",\n        },\n{\n            'v': 137,\n            'f': \"137\",\n        },\n{\n            'v': 8,\n            'f': \"8\",\n        }],\n [{\n            'v': 57,\n            'f': \"57\",\n        },\n\"CCC\",\n\"2014B\",\n{\n            'v': 24289,\n            'f': \"24289\",\n        },\n{\n            'v': 207,\n            'f': \"207\",\n        },\n{\n            'v': 8,\n            'f': \"8\",\n        }],\n [{\n            'v': 58,\n            'f': \"58\",\n        },\n\"CCC\",\n\"2014B\",\n{\n            'v': 24282,\n            'f': \"24282\",\n        },\n{\n            'v': 32,\n            'f': \"32\",\n        },\n{\n            'v': 9,\n            'f': \"9\",\n        }],\n [{\n            'v': 59,\n            'f': \"59\",\n        },\n\"CCC\",\n\"2014B\",\n{\n            'v': 24283,\n            'f': \"24283\",\n        },\n{\n            'v': 102,\n            'f': \"102\",\n        },\n{\n            'v': 22,\n            'f': \"22\",\n        }],\n [{\n            'v': 60,\n            'f': \"60\",\n        },\n\"CCC\",\n\"2014B\",\n{\n            'v': 24284,\n            'f': \"24284\",\n        },\n{\n            'v': 151,\n            'f': \"151\",\n        },\n{\n            'v': 22,\n            'f': \"22\",\n        }],\n [{\n            'v': 61,\n            'f': \"61\",\n        },\n\"CCC\",\n\"2014B\",\n{\n            'v': 24285,\n            'f': \"24285\",\n        },\n{\n            'v': 200,\n            'f': \"200\",\n        },\n{\n            'v': 22,\n            'f': \"22\",\n        }],\n [{\n            'v': 62,\n            'f': \"62\",\n        },\n\"CCC\",\n\"2014B\",\n{\n            'v': 24290,\n            'f': \"24290\",\n        },\n{\n            'v': 145,\n            'f': \"145\",\n        },\n{\n            'v': 100,\n            'f': \"100\",\n        }],\n [{\n            'v': 63,\n            'f': \"63\",\n        },\n\"CCC\",\n\"2014B\",\n{\n            'v': 40087,\n            'f': \"40087\",\n        },\n{\n            'v': 145,\n            'f': \"145\",\n        },\n{\n            'v': 100,\n            'f': \"100\",\n        }],\n [{\n            'v': 64,\n            'f': \"64\",\n        },\n\"CCC\",\n\"2014J\",\n{\n            'v': 24295,\n            'f': \"24295\",\n        },\n{\n            'v': 18,\n            'f': \"18\",\n        },\n{\n            'v': 2,\n            'f': \"2\",\n        }],\n [{\n            'v': 65,\n            'f': \"65\",\n        },\n\"CCC\",\n\"2014J\",\n{\n            'v': 24296,\n            'f': \"24296\",\n        },\n{\n            'v': 67,\n            'f': \"67\",\n        },\n{\n            'v': 7,\n            'f': \"7\",\n        }],\n [{\n            'v': 66,\n            'f': \"66\",\n        },\n\"CCC\",\n\"2014J\",\n{\n            'v': 24297,\n            'f': \"24297\",\n        },\n{\n            'v': 144,\n            'f': \"144\",\n        },\n{\n            'v': 8,\n            'f': \"8\",\n        }],\n [{\n            'v': 67,\n            'f': \"67\",\n        },\n\"CCC\",\n\"2014J\",\n{\n            'v': 24298,\n            'f': \"24298\",\n        },\n{\n            'v': 214,\n            'f': \"214\",\n        },\n{\n            'v': 8,\n            'f': \"8\",\n        }],\n [{\n            'v': 68,\n            'f': \"68\",\n        },\n\"CCC\",\n\"2014J\",\n{\n            'v': 24291,\n            'f': \"24291\",\n        },\n{\n            'v': 32,\n            'f': \"32\",\n        },\n{\n            'v': 9,\n            'f': \"9\",\n        }],\n [{\n            'v': 69,\n            'f': \"69\",\n        },\n\"CCC\",\n\"2014J\",\n{\n            'v': 24292,\n            'f': \"24292\",\n        },\n{\n            'v': 109,\n            'f': \"109\",\n        },\n{\n            'v': 22,\n            'f': \"22\",\n        }],\n [{\n            'v': 70,\n            'f': \"70\",\n        },\n\"CCC\",\n\"2014J\",\n{\n            'v': 24293,\n            'f': \"24293\",\n        },\n{\n            'v': 158,\n            'f': \"158\",\n        },\n{\n            'v': 22,\n            'f': \"22\",\n        }],\n [{\n            'v': 71,\n            'f': \"71\",\n        },\n\"CCC\",\n\"2014J\",\n{\n            'v': 24294,\n            'f': \"24294\",\n        },\n{\n            'v': 207,\n            'f': \"207\",\n        },\n{\n            'v': 22,\n            'f': \"22\",\n        }],\n [{\n            'v': 72,\n            'f': \"72\",\n        },\n\"CCC\",\n\"2014J\",\n{\n            'v': 24299,\n            'f': \"24299\",\n        },\n{\n            'v': 145,\n            'f': \"145\",\n        },\n{\n            'v': 100,\n            'f': \"100\",\n        }],\n [{\n            'v': 73,\n            'f': \"73\",\n        },\n\"CCC\",\n\"2014J\",\n{\n            'v': 40088,\n            'f': \"40088\",\n        },\n{\n            'v': 145,\n            'f': \"145\",\n        },\n{\n            'v': 100,\n            'f': \"100\",\n        }],\n [{\n            'v': 74,\n            'f': \"74\",\n        },\n\"DDD\",\n\"2013B\",\n{\n            'v': 25341,\n            'f': \"25341\",\n        },\n{\n            'v': 23,\n            'f': \"23\",\n        },\n{\n            'v': 2,\n            'f': \"2\",\n        }],\n [{\n            'v': 75,\n            'f': \"75\",\n        },\n\"DDD\",\n\"2013B\",\n{\n            'v': 25342,\n            'f': \"25342\",\n        },\n{\n            'v': 51,\n            'f': \"51\",\n        },\n{\n            'v': 3,\n            'f': \"3\",\n        }],\n [{\n            'v': 76,\n            'f': \"76\",\n        },\n\"DDD\",\n\"2013B\",\n{\n            'v': 25343,\n            'f': \"25343\",\n        },\n{\n            'v': 79,\n            'f': \"79\",\n        },\n{\n            'v': 3,\n            'f': \"3\",\n        }],\n [{\n            'v': 77,\n            'f': \"77\",\n        },\n\"DDD\",\n\"2013B\",\n{\n            'v': 25344,\n            'f': \"25344\",\n        },\n{\n            'v': 114,\n            'f': \"114\",\n        },\n{\n            'v': 4,\n            'f': \"4\",\n        }],\n [{\n            'v': 78,\n            'f': \"78\",\n        },\n\"DDD\",\n\"2013B\",\n{\n            'v': 25345,\n            'f': \"25345\",\n        },\n{\n            'v': 149,\n            'f': \"149\",\n        },\n{\n            'v': 4,\n            'f': \"4\",\n        }],\n [{\n            'v': 79,\n            'f': \"79\",\n        },\n\"DDD\",\n\"2013B\",\n{\n            'v': 25346,\n            'f': \"25346\",\n        },\n{\n            'v': 170,\n            'f': \"170\",\n        },\n{\n            'v': 3,\n            'f': \"3\",\n        }],\n [{\n            'v': 80,\n            'f': \"80\",\n        },\n\"DDD\",\n\"2013B\",\n{\n            'v': 25347,\n            'f': \"25347\",\n        },\n{\n            'v': 206,\n            'f': \"206\",\n        },\n{\n            'v': 6,\n            'f': \"6\",\n        }],\n [{\n            'v': 81,\n            'f': \"81\",\n        },\n\"DDD\",\n\"2013B\",\n{\n            'v': 25334,\n            'f': \"25334\",\n        },\n{\n            'v': 25,\n            'f': \"25\",\n        },\n{\n            'v': 7,\n            'f': \"7\",\n        }],\n [{\n            'v': 82,\n            'f': \"82\",\n        },\n\"DDD\",\n\"2013B\",\n{\n            'v': 25335,\n            'f': \"25335\",\n        },\n{\n            'v': 53,\n            'f': \"53\",\n        },\n{\n            'v': 10,\n            'f': \"10\",\n        }],\n [{\n            'v': 83,\n            'f': \"83\",\n        },\n\"DDD\",\n\"2013B\",\n{\n            'v': 25336,\n            'f': \"25336\",\n        },\n{\n            'v': 81,\n            'f': \"81\",\n        },\n{\n            'v': 12,\n            'f': \"12\",\n        }],\n [{\n            'v': 84,\n            'f': \"84\",\n        },\n\"DDD\",\n\"2013B\",\n{\n            'v': 25337,\n            'f': \"25337\",\n        },\n{\n            'v': 116,\n            'f': \"116\",\n        },\n{\n            'v': 15,\n            'f': \"15\",\n        }],\n [{\n            'v': 85,\n            'f': \"85\",\n        },\n\"DDD\",\n\"2013B\",\n{\n            'v': 25338,\n            'f': \"25338\",\n        },\n{\n            'v': 151,\n            'f': \"151\",\n        },\n{\n            'v': 15,\n            'f': \"15\",\n        }],\n [{\n            'v': 86,\n            'f': \"86\",\n        },\n\"DDD\",\n\"2013B\",\n{\n            'v': 25339,\n            'f': \"25339\",\n        },\n{\n            'v': 200,\n            'f': \"200\",\n        },\n{\n            'v': 15,\n            'f': \"15\",\n        }],\n [{\n            'v': 87,\n            'f': \"87\",\n        },\n\"DDD\",\n\"2013B\",\n{\n            'v': 25340,\n            'f': \"25340\",\n        },\n{\n            'v': 240,\n            'f': \"240\",\n        },\n{\n            'v': 100,\n            'f': \"100\",\n        }],\n [{\n            'v': 88,\n            'f': \"88\",\n        },\n\"DDD\",\n\"2013J\",\n{\n            'v': 25348,\n            'f': \"25348\",\n        },\n{\n            'v': 25,\n            'f': \"25\",\n        },\n{\n            'v': 10,\n            'f': \"10\",\n        }],\n [{\n            'v': 89,\n            'f': \"89\",\n        },\n\"DDD\",\n\"2013J\",\n{\n            'v': 25349,\n            'f': \"25349\",\n        },\n{\n            'v': 53,\n            'f': \"53\",\n        },\n{\n            'v': 12,\n            'f': \"12\",\n        }],\n [{\n            'v': 90,\n            'f': \"90\",\n        },\n\"DDD\",\n\"2013J\",\n{\n            'v': 25350,\n            'f': \"25350\",\n        },\n{\n            'v': 88,\n            'f': \"88\",\n        },\n{\n            'v': 17,\n            'f': \"17\",\n        }],\n [{\n            'v': 91,\n            'f': \"91\",\n        },\n\"DDD\",\n\"2013J\",\n{\n            'v': 25351,\n            'f': \"25351\",\n        },\n{\n            'v': 123,\n            'f': \"123\",\n        },\n{\n            'v': 20,\n            'f': \"20\",\n        }],\n [{\n            'v': 92,\n            'f': \"92\",\n        },\n\"DDD\",\n\"2013J\",\n{\n            'v': 25352,\n            'f': \"25352\",\n        },\n{\n            'v': 165,\n            'f': \"165\",\n        },\n{\n            'v': 20,\n            'f': \"20\",\n        }],\n [{\n            'v': 93,\n            'f': \"93\",\n        },\n\"DDD\",\n\"2013J\",\n{\n            'v': 25353,\n            'f': \"25353\",\n        },\n{\n            'v': 207,\n            'f': \"207\",\n        },\n{\n            'v': 20,\n            'f': \"20\",\n        }],\n [{\n            'v': 94,\n            'f': \"94\",\n        },\n\"DDD\",\n\"2013J\",\n{\n            'v': 25354,\n            'f': \"25354\",\n        },\n{\n            'v': 261,\n            'f': \"261\",\n        },\n{\n            'v': 100,\n            'f': \"100\",\n        }],\n [{\n            'v': 95,\n            'f': \"95\",\n        },\n\"DDD\",\n\"2014B\",\n{\n            'v': 25355,\n            'f': \"25355\",\n        },\n{\n            'v': 25,\n            'f': \"25\",\n        },\n{\n            'v': 10,\n            'f': \"10\",\n        }],\n [{\n            'v': 96,\n            'f': \"96\",\n        },\n\"DDD\",\n\"2014B\",\n{\n            'v': 25356,\n            'f': \"25356\",\n        },\n{\n            'v': 53,\n            'f': \"53\",\n        },\n{\n            'v': 12,\n            'f': \"12\",\n        }],\n [{\n            'v': 97,\n            'f': \"97\",\n        },\n\"DDD\",\n\"2014B\",\n{\n            'v': 25357,\n            'f': \"25357\",\n        },\n{\n            'v': 74,\n            'f': \"74\",\n        },\n{\n            'v': 17,\n            'f': \"17\",\n        }],\n [{\n            'v': 98,\n            'f': \"98\",\n        },\n\"DDD\",\n\"2014B\",\n{\n            'v': 25358,\n            'f': \"25358\",\n        },\n{\n            'v': 116,\n            'f': \"116\",\n        },\n{\n            'v': 20,\n            'f': \"20\",\n        }],\n [{\n            'v': 99,\n            'f': \"99\",\n        },\n\"DDD\",\n\"2014B\",\n{\n            'v': 25359,\n            'f': \"25359\",\n        },\n{\n            'v': 158,\n            'f': \"158\",\n        },\n{\n            'v': 20,\n            'f': \"20\",\n        }],\n [{\n            'v': 100,\n            'f': \"100\",\n        },\n\"DDD\",\n\"2014B\",\n{\n            'v': 25360,\n            'f': \"25360\",\n        },\n{\n            'v': 200,\n            'f': \"200\",\n        },\n{\n            'v': 20,\n            'f': \"20\",\n        }],\n [{\n            'v': 101,\n            'f': \"101\",\n        },\n\"DDD\",\n\"2014B\",\n{\n            'v': 25361,\n            'f': \"25361\",\n        },\n{\n            'v': 241,\n            'f': \"241\",\n        },\n{\n            'v': 100,\n            'f': \"100\",\n        }],\n [{\n            'v': 102,\n            'f': \"102\",\n        },\n\"DDD\",\n\"2014J\",\n{\n            'v': 25362,\n            'f': \"25362\",\n        },\n{\n            'v': 20,\n            'f': \"20\",\n        },\n{\n            'v': 5,\n            'f': \"5\",\n        }],\n [{\n            'v': 103,\n            'f': \"103\",\n        },\n\"DDD\",\n\"2014J\",\n{\n            'v': 25363,\n            'f': \"25363\",\n        },\n{\n            'v': 41,\n            'f': \"41\",\n        },\n{\n            'v': 10,\n            'f': \"10\",\n        }],\n [{\n            'v': 104,\n            'f': \"104\",\n        },\n\"DDD\",\n\"2014J\",\n{\n            'v': 25364,\n            'f': \"25364\",\n        },\n{\n            'v': 62,\n            'f': \"62\",\n        },\n{\n            'v': 10,\n            'f': \"10\",\n        }],\n [{\n            'v': 105,\n            'f': \"105\",\n        },\n\"DDD\",\n\"2014J\",\n{\n            'v': 25365,\n            'f': \"25365\",\n        },\n{\n            'v': 111,\n            'f': \"111\",\n        },\n{\n            'v': 25,\n            'f': \"25\",\n        }],\n [{\n            'v': 106,\n            'f': \"106\",\n        },\n\"DDD\",\n\"2014J\",\n{\n            'v': 25366,\n            'f': \"25366\",\n        },\n{\n            'v': 146,\n            'f': \"146\",\n        },\n{\n            'v': 25,\n            'f': \"25\",\n        }],\n [{\n            'v': 107,\n            'f': \"107\",\n        },\n\"DDD\",\n\"2014J\",\n{\n            'v': 25367,\n            'f': \"25367\",\n        },\n{\n            'v': 195,\n            'f': \"195\",\n        },\n{\n            'v': 25,\n            'f': \"25\",\n        }],\n [{\n            'v': 108,\n            'f': \"108\",\n        },\n\"DDD\",\n\"2014J\",\n{\n            'v': 25368,\n            'f': \"25368\",\n        },\n{\n            'v': 145,\n            'f': \"145\",\n        },\n{\n            'v': 100,\n            'f': \"100\",\n        }],\n [{\n            'v': 109,\n            'f': \"109\",\n        },\n\"EEE\",\n\"2013J\",\n{\n            'v': 30709,\n            'f': \"30709\",\n        },\n{\n            'v': 33,\n            'f': \"33\",\n        },\n{\n            'v': 16,\n            'f': \"16\",\n        }],\n [{\n            'v': 110,\n            'f': \"110\",\n        },\n\"EEE\",\n\"2013J\",\n{\n            'v': 30710,\n            'f': \"30710\",\n        },\n{\n            'v': 68,\n            'f': \"68\",\n        },\n{\n            'v': 28,\n            'f': \"28\",\n        }],\n [{\n            'v': 111,\n            'f': \"111\",\n        },\n\"EEE\",\n\"2013J\",\n{\n            'v': 30711,\n            'f': \"30711\",\n        },\n{\n            'v': 124,\n            'f': \"124\",\n        },\n{\n            'v': 28,\n            'f': \"28\",\n        }],\n [{\n            'v': 112,\n            'f': \"112\",\n        },\n\"EEE\",\n\"2013J\",\n{\n            'v': 30712,\n            'f': \"30712\",\n        },\n{\n            'v': 159,\n            'f': \"159\",\n        },\n{\n            'v': 28,\n            'f': \"28\",\n        }],\n [{\n            'v': 113,\n            'f': \"113\",\n        },\n\"EEE\",\n\"2013J\",\n{\n            'v': 30713,\n            'f': \"30713\",\n        },\n{\n            'v': 235,\n            'f': \"235\",\n        },\n{\n            'v': 100,\n            'f': \"100\",\n        }],\n [{\n            'v': 114,\n            'f': \"114\",\n        },\n\"EEE\",\n\"2014B\",\n{\n            'v': 30714,\n            'f': \"30714\",\n        },\n{\n            'v': 33,\n            'f': \"33\",\n        },\n{\n            'v': 16,\n            'f': \"16\",\n        }],\n [{\n            'v': 115,\n            'f': \"115\",\n        },\n\"EEE\",\n\"2014B\",\n{\n            'v': 30715,\n            'f': \"30715\",\n        },\n{\n            'v': 68,\n            'f': \"68\",\n        },\n{\n            'v': 28,\n            'f': \"28\",\n        }],\n [{\n            'v': 116,\n            'f': \"116\",\n        },\n\"EEE\",\n\"2014B\",\n{\n            'v': 30716,\n            'f': \"30716\",\n        },\n{\n            'v': 117,\n            'f': \"117\",\n        },\n{\n            'v': 28,\n            'f': \"28\",\n        }],\n [{\n            'v': 117,\n            'f': \"117\",\n        },\n\"EEE\",\n\"2014B\",\n{\n            'v': 30717,\n            'f': \"30717\",\n        },\n{\n            'v': 152,\n            'f': \"152\",\n        },\n{\n            'v': 28,\n            'f': \"28\",\n        }],\n [{\n            'v': 118,\n            'f': \"118\",\n        },\n\"EEE\",\n\"2014B\",\n{\n            'v': 30718,\n            'f': \"30718\",\n        },\n{\n            'v': 228,\n            'f': \"228\",\n        },\n{\n            'v': 100,\n            'f': \"100\",\n        }],\n [{\n            'v': 119,\n            'f': \"119\",\n        },\n\"EEE\",\n\"2014J\",\n{\n            'v': 30719,\n            'f': \"30719\",\n        },\n{\n            'v': 33,\n            'f': \"33\",\n        },\n{\n            'v': 16,\n            'f': \"16\",\n        }],\n [{\n            'v': 120,\n            'f': \"120\",\n        },\n\"EEE\",\n\"2014J\",\n{\n            'v': 30720,\n            'f': \"30720\",\n        },\n{\n            'v': 68,\n            'f': \"68\",\n        },\n{\n            'v': 28,\n            'f': \"28\",\n        }],\n [{\n            'v': 121,\n            'f': \"121\",\n        },\n\"EEE\",\n\"2014J\",\n{\n            'v': 30721,\n            'f': \"30721\",\n        },\n{\n            'v': 131,\n            'f': \"131\",\n        },\n{\n            'v': 28,\n            'f': \"28\",\n        }],\n [{\n            'v': 122,\n            'f': \"122\",\n        },\n\"EEE\",\n\"2014J\",\n{\n            'v': 30722,\n            'f': \"30722\",\n        },\n{\n            'v': 166,\n            'f': \"166\",\n        },\n{\n            'v': 28,\n            'f': \"28\",\n        }],\n [{\n            'v': 123,\n            'f': \"123\",\n        },\n\"EEE\",\n\"2014J\",\n{\n            'v': 30723,\n            'f': \"30723\",\n        },\n{\n            'v': 235,\n            'f': \"235\",\n        },\n{\n            'v': 100,\n            'f': \"100\",\n        }],\n [{\n            'v': 124,\n            'f': \"124\",\n        },\n\"FFF\",\n\"2013B\",\n{\n            'v': 34865,\n            'f': \"34865\",\n        },\n{\n            'v': 222,\n            'f': \"222\",\n        },\n{\n            'v': 0,\n            'f': \"0\",\n        }],\n [{\n            'v': 125,\n            'f': \"125\",\n        },\n\"FFF\",\n\"2013B\",\n{\n            'v': 34866,\n            'f': \"34866\",\n        },\n{\n            'v': 222,\n            'f': \"222\",\n        },\n{\n            'v': 0,\n            'f': \"0\",\n        }],\n [{\n            'v': 126,\n            'f': \"126\",\n        },\n\"FFF\",\n\"2013B\",\n{\n            'v': 34867,\n            'f': \"34867\",\n        },\n{\n            'v': 222,\n            'f': \"222\",\n        },\n{\n            'v': 0,\n            'f': \"0\",\n        }],\n [{\n            'v': 127,\n            'f': \"127\",\n        },\n\"FFF\",\n\"2013B\",\n{\n            'v': 34868,\n            'f': \"34868\",\n        },\n{\n            'v': 222,\n            'f': \"222\",\n        },\n{\n            'v': 0,\n            'f': \"0\",\n        }],\n [{\n            'v': 128,\n            'f': \"128\",\n        },\n\"FFF\",\n\"2013B\",\n{\n            'v': 34869,\n            'f': \"34869\",\n        },\n{\n            'v': 222,\n            'f': \"222\",\n        },\n{\n            'v': 0,\n            'f': \"0\",\n        }],\n [{\n            'v': 129,\n            'f': \"129\",\n        },\n\"FFF\",\n\"2013B\",\n{\n            'v': 34871,\n            'f': \"34871\",\n        },\n{\n            'v': 222,\n            'f': \"222\",\n        },\n{\n            'v': 0,\n            'f': \"0\",\n        }],\n [{\n            'v': 130,\n            'f': \"130\",\n        },\n\"FFF\",\n\"2013B\",\n{\n            'v': 34870,\n            'f': \"34870\",\n        },\n{\n            'v': 222,\n            'f': \"222\",\n        },\n{\n            'v': 0,\n            'f': \"0\",\n        }],\n [{\n            'v': 131,\n            'f': \"131\",\n        },\n\"FFF\",\n\"2013B\",\n{\n            'v': 34860,\n            'f': \"34860\",\n        },\n{\n            'v': 19,\n            'f': \"19\",\n        },\n{\n            'v': 12,\n            'f': \"12\",\n        }],\n [{\n            'v': 132,\n            'f': \"132\",\n        },\n\"FFF\",\n\"2013B\",\n{\n            'v': 34861,\n            'f': \"34861\",\n        },\n{\n            'v': 47,\n            'f': \"47\",\n        },\n{\n            'v': 12,\n            'f': \"12\",\n        }],\n [{\n            'v': 133,\n            'f': \"133\",\n        },\n\"FFF\",\n\"2013B\",\n{\n            'v': 34862,\n            'f': \"34862\",\n        },\n{\n            'v': 89,\n            'f': \"89\",\n        },\n{\n            'v': 25,\n            'f': \"25\",\n        }],\n [{\n            'v': 134,\n            'f': \"134\",\n        },\n\"FFF\",\n\"2013B\",\n{\n            'v': 34863,\n            'f': \"34863\",\n        },\n{\n            'v': 131,\n            'f': \"131\",\n        },\n{\n            'v': 25,\n            'f': \"25\",\n        }],\n [{\n            'v': 135,\n            'f': \"135\",\n        },\n\"FFF\",\n\"2013B\",\n{\n            'v': 34864,\n            'f': \"34864\",\n        },\n{\n            'v': 166,\n            'f': \"166\",\n        },\n{\n            'v': 25,\n            'f': \"25\",\n        }],\n [{\n            'v': 136,\n            'f': \"136\",\n        },\n\"FFF\",\n\"2013B\",\n{\n            'v': 34872,\n            'f': \"34872\",\n        },\n{\n            'v': 222,\n            'f': \"222\",\n        },\n{\n            'v': 100,\n            'f': \"100\",\n        }],\n [{\n            'v': 137,\n            'f': \"137\",\n        },\n\"FFF\",\n\"2013J\",\n{\n            'v': 34878,\n            'f': \"34878\",\n        },\n{\n            'v': 236,\n            'f': \"236\",\n        },\n{\n            'v': 0,\n            'f': \"0\",\n        }],\n [{\n            'v': 138,\n            'f': \"138\",\n        },\n\"FFF\",\n\"2013J\",\n{\n            'v': 34879,\n            'f': \"34879\",\n        },\n{\n            'v': 236,\n            'f': \"236\",\n        },\n{\n            'v': 0,\n            'f': \"0\",\n        }],\n [{\n            'v': 139,\n            'f': \"139\",\n        },\n\"FFF\",\n\"2013J\",\n{\n            'v': 34880,\n            'f': \"34880\",\n        },\n{\n            'v': 236,\n            'f': \"236\",\n        },\n{\n            'v': 0,\n            'f': \"0\",\n        }],\n [{\n            'v': 140,\n            'f': \"140\",\n        },\n\"FFF\",\n\"2013J\",\n{\n            'v': 34881,\n            'f': \"34881\",\n        },\n{\n            'v': 236,\n            'f': \"236\",\n        },\n{\n            'v': 0,\n            'f': \"0\",\n        }],\n [{\n            'v': 141,\n            'f': \"141\",\n        },\n\"FFF\",\n\"2013J\",\n{\n            'v': 34882,\n            'f': \"34882\",\n        },\n{\n            'v': 236,\n            'f': \"236\",\n        },\n{\n            'v': 0,\n            'f': \"0\",\n        }],\n [{\n            'v': 142,\n            'f': \"142\",\n        },\n\"FFF\",\n\"2013J\",\n{\n            'v': 34884,\n            'f': \"34884\",\n        },\n{\n            'v': 236,\n            'f': \"236\",\n        },\n{\n            'v': 0,\n            'f': \"0\",\n        }],\n [{\n            'v': 143,\n            'f': \"143\",\n        },\n\"FFF\",\n\"2013J\",\n{\n            'v': 34883,\n            'f': \"34883\",\n        },\n{\n            'v': 236,\n            'f': \"236\",\n        },\n{\n            'v': 0,\n            'f': \"0\",\n        }],\n [{\n            'v': 144,\n            'f': \"144\",\n        },\n\"FFF\",\n\"2013J\",\n{\n            'v': 34873,\n            'f': \"34873\",\n        },\n{\n            'v': 19,\n            'f': \"19\",\n        },\n{\n            'v': 12,\n            'f': \"12\",\n        }],\n [{\n            'v': 145,\n            'f': \"145\",\n        },\n\"FFF\",\n\"2013J\",\n{\n            'v': 34874,\n            'f': \"34874\",\n        },\n{\n            'v': 47,\n            'f': \"47\",\n        },\n{\n            'v': 12,\n            'f': \"12\",\n        }],\n [{\n            'v': 146,\n            'f': \"146\",\n        },\n\"FFF\",\n\"2013J\",\n{\n            'v': 34875,\n            'f': \"34875\",\n        },\n{\n            'v': 96,\n            'f': \"96\",\n        },\n{\n            'v': 25,\n            'f': \"25\",\n        }],\n [{\n            'v': 147,\n            'f': \"147\",\n        },\n\"FFF\",\n\"2013J\",\n{\n            'v': 34876,\n            'f': \"34876\",\n        },\n{\n            'v': 131,\n            'f': \"131\",\n        },\n{\n            'v': 25,\n            'f': \"25\",\n        }],\n [{\n            'v': 148,\n            'f': \"148\",\n        },\n\"FFF\",\n\"2013J\",\n{\n            'v': 34877,\n            'f': \"34877\",\n        },\n{\n            'v': 173,\n            'f': \"173\",\n        },\n{\n            'v': 25,\n            'f': \"25\",\n        }],\n [{\n            'v': 149,\n            'f': \"149\",\n        },\n\"FFF\",\n\"2013J\",\n{\n            'v': 34885,\n            'f': \"34885\",\n        },\n{\n            'v': 236,\n            'f': \"236\",\n        },\n{\n            'v': 100,\n            'f': \"100\",\n        }],\n [{\n            'v': 150,\n            'f': \"150\",\n        },\n\"FFF\",\n\"2014B\",\n{\n            'v': 34891,\n            'f': \"34891\",\n        },\n{\n            'v': 227,\n            'f': \"227\",\n        },\n{\n            'v': 0,\n            'f': \"0\",\n        }],\n [{\n            'v': 151,\n            'f': \"151\",\n        },\n\"FFF\",\n\"2014B\",\n{\n            'v': 34892,\n            'f': \"34892\",\n        },\n{\n            'v': 227,\n            'f': \"227\",\n        },\n{\n            'v': 0,\n            'f': \"0\",\n        }],\n [{\n            'v': 152,\n            'f': \"152\",\n        },\n\"FFF\",\n\"2014B\",\n{\n            'v': 34893,\n            'f': \"34893\",\n        },\n{\n            'v': 227,\n            'f': \"227\",\n        },\n{\n            'v': 0,\n            'f': \"0\",\n        }],\n [{\n            'v': 153,\n            'f': \"153\",\n        },\n\"FFF\",\n\"2014B\",\n{\n            'v': 34894,\n            'f': \"34894\",\n        },\n{\n            'v': 227,\n            'f': \"227\",\n        },\n{\n            'v': 0,\n            'f': \"0\",\n        }],\n [{\n            'v': 154,\n            'f': \"154\",\n        },\n\"FFF\",\n\"2014B\",\n{\n            'v': 34895,\n            'f': \"34895\",\n        },\n{\n            'v': 227,\n            'f': \"227\",\n        },\n{\n            'v': 0,\n            'f': \"0\",\n        }],\n [{\n            'v': 155,\n            'f': \"155\",\n        },\n\"FFF\",\n\"2014B\",\n{\n            'v': 34897,\n            'f': \"34897\",\n        },\n{\n            'v': 227,\n            'f': \"227\",\n        },\n{\n            'v': 0,\n            'f': \"0\",\n        }],\n [{\n            'v': 156,\n            'f': \"156\",\n        },\n\"FFF\",\n\"2014B\",\n{\n            'v': 34896,\n            'f': \"34896\",\n        },\n{\n            'v': 227,\n            'f': \"227\",\n        },\n{\n            'v': 0,\n            'f': \"0\",\n        }],\n [{\n            'v': 157,\n            'f': \"157\",\n        },\n\"FFF\",\n\"2014B\",\n{\n            'v': 34886,\n            'f': \"34886\",\n        },\n{\n            'v': 24,\n            'f': \"24\",\n        },\n{\n            'v': 12,\n            'f': \"12\",\n        }],\n [{\n            'v': 158,\n            'f': \"158\",\n        },\n\"FFF\",\n\"2014B\",\n{\n            'v': 34887,\n            'f': \"34887\",\n        },\n{\n            'v': 52,\n            'f': \"52\",\n        },\n{\n            'v': 12,\n            'f': \"12\",\n        }],\n [{\n            'v': 159,\n            'f': \"159\",\n        },\n\"FFF\",\n\"2014B\",\n{\n            'v': 34888,\n            'f': \"34888\",\n        },\n{\n            'v': 87,\n            'f': \"87\",\n        },\n{\n            'v': 25,\n            'f': \"25\",\n        }],\n [{\n            'v': 160,\n            'f': \"160\",\n        },\n\"FFF\",\n\"2014B\",\n{\n            'v': 34889,\n            'f': \"34889\",\n        },\n{\n            'v': 129,\n            'f': \"129\",\n        },\n{\n            'v': 25,\n            'f': \"25\",\n        }],\n [{\n            'v': 161,\n            'f': \"161\",\n        },\n\"FFF\",\n\"2014B\",\n{\n            'v': 34890,\n            'f': \"34890\",\n        },\n{\n            'v': 171,\n            'f': \"171\",\n        },\n{\n            'v': 25,\n            'f': \"25\",\n        }],\n [{\n            'v': 162,\n            'f': \"162\",\n        },\n\"FFF\",\n\"2014B\",\n{\n            'v': 34898,\n            'f': \"34898\",\n        },\n{\n            'v': 227,\n            'f': \"227\",\n        },\n{\n            'v': 100,\n            'f': \"100\",\n        }],\n [{\n            'v': 163,\n            'f': \"163\",\n        },\n\"FFF\",\n\"2014J\",\n{\n            'v': 34904,\n            'f': \"34904\",\n        },\n{\n            'v': 241,\n            'f': \"241\",\n        },\n{\n            'v': 0,\n            'f': \"0\",\n        }],\n [{\n            'v': 164,\n            'f': \"164\",\n        },\n\"FFF\",\n\"2014J\",\n{\n            'v': 34905,\n            'f': \"34905\",\n        },\n{\n            'v': 241,\n            'f': \"241\",\n        },\n{\n            'v': 0,\n            'f': \"0\",\n        }],\n [{\n            'v': 165,\n            'f': \"165\",\n        },\n\"FFF\",\n\"2014J\",\n{\n            'v': 34906,\n            'f': \"34906\",\n        },\n{\n            'v': 241,\n            'f': \"241\",\n        },\n{\n            'v': 0,\n            'f': \"0\",\n        }],\n [{\n            'v': 166,\n            'f': \"166\",\n        },\n\"FFF\",\n\"2014J\",\n{\n            'v': 34907,\n            'f': \"34907\",\n        },\n{\n            'v': 241,\n            'f': \"241\",\n        },\n{\n            'v': 0,\n            'f': \"0\",\n        }],\n [{\n            'v': 167,\n            'f': \"167\",\n        },\n\"FFF\",\n\"2014J\",\n{\n            'v': 34908,\n            'f': \"34908\",\n        },\n{\n            'v': 241,\n            'f': \"241\",\n        },\n{\n            'v': 0,\n            'f': \"0\",\n        }],\n [{\n            'v': 168,\n            'f': \"168\",\n        },\n\"FFF\",\n\"2014J\",\n{\n            'v': 34910,\n            'f': \"34910\",\n        },\n{\n            'v': 241,\n            'f': \"241\",\n        },\n{\n            'v': 0,\n            'f': \"0\",\n        }],\n [{\n            'v': 169,\n            'f': \"169\",\n        },\n\"FFF\",\n\"2014J\",\n{\n            'v': 34909,\n            'f': \"34909\",\n        },\n{\n            'v': 241,\n            'f': \"241\",\n        },\n{\n            'v': 0,\n            'f': \"0\",\n        }],\n [{\n            'v': 170,\n            'f': \"170\",\n        },\n\"FFF\",\n\"2014J\",\n{\n            'v': 34899,\n            'f': \"34899\",\n        },\n{\n            'v': 24,\n            'f': \"24\",\n        },\n{\n            'v': 12,\n            'f': \"12\",\n        }],\n [{\n            'v': 171,\n            'f': \"171\",\n        },\n\"FFF\",\n\"2014J\",\n{\n            'v': 34900,\n            'f': \"34900\",\n        },\n{\n            'v': 52,\n            'f': \"52\",\n        },\n{\n            'v': 12,\n            'f': \"12\",\n        }],\n [{\n            'v': 172,\n            'f': \"172\",\n        },\n\"FFF\",\n\"2014J\",\n{\n            'v': 34901,\n            'f': \"34901\",\n        },\n{\n            'v': 94,\n            'f': \"94\",\n        },\n{\n            'v': 25,\n            'f': \"25\",\n        }],\n [{\n            'v': 173,\n            'f': \"173\",\n        },\n\"FFF\",\n\"2014J\",\n{\n            'v': 34902,\n            'f': \"34902\",\n        },\n{\n            'v': 136,\n            'f': \"136\",\n        },\n{\n            'v': 25,\n            'f': \"25\",\n        }],\n [{\n            'v': 174,\n            'f': \"174\",\n        },\n\"FFF\",\n\"2014J\",\n{\n            'v': 34903,\n            'f': \"34903\",\n        },\n{\n            'v': 199,\n            'f': \"199\",\n        },\n{\n            'v': 25,\n            'f': \"25\",\n        }],\n [{\n            'v': 175,\n            'f': \"175\",\n        },\n\"FFF\",\n\"2014J\",\n{\n            'v': 34911,\n            'f': \"34911\",\n        },\n{\n            'v': 241,\n            'f': \"241\",\n        },\n{\n            'v': 100,\n            'f': \"100\",\n        }],\n [{\n            'v': 176,\n            'f': \"176\",\n        },\n\"GGG\",\n\"2013J\",\n{\n            'v': 37418,\n            'f': \"37418\",\n        },\n{\n            'v': 229,\n            'f': \"229\",\n        },\n{\n            'v': 0,\n            'f': \"0\",\n        }],\n [{\n            'v': 177,\n            'f': \"177\",\n        },\n\"GGG\",\n\"2013J\",\n{\n            'v': 37419,\n            'f': \"37419\",\n        },\n{\n            'v': 229,\n            'f': \"229\",\n        },\n{\n            'v': 0,\n            'f': \"0\",\n        }],\n [{\n            'v': 178,\n            'f': \"178\",\n        },\n\"GGG\",\n\"2013J\",\n{\n            'v': 37420,\n            'f': \"37420\",\n        },\n{\n            'v': 229,\n            'f': \"229\",\n        },\n{\n            'v': 0,\n            'f': \"0\",\n        }],\n [{\n            'v': 179,\n            'f': \"179\",\n        },\n\"GGG\",\n\"2013J\",\n{\n            'v': 37421,\n            'f': \"37421\",\n        },\n{\n            'v': 229,\n            'f': \"229\",\n        },\n{\n            'v': 0,\n            'f': \"0\",\n        }],\n [{\n            'v': 180,\n            'f': \"180\",\n        },\n\"GGG\",\n\"2013J\",\n{\n            'v': 37422,\n            'f': \"37422\",\n        },\n{\n            'v': 229,\n            'f': \"229\",\n        },\n{\n            'v': 0,\n            'f': \"0\",\n        }],\n [{\n            'v': 181,\n            'f': \"181\",\n        },\n\"GGG\",\n\"2013J\",\n{\n            'v': 37423,\n            'f': \"37423\",\n        },\n{\n            'v': 229,\n            'f': \"229\",\n        },\n{\n            'v': 0,\n            'f': \"0\",\n        }],\n [{\n            'v': 182,\n            'f': \"182\",\n        },\n\"GGG\",\n\"2013J\",\n{\n            'v': 37415,\n            'f': \"37415\",\n        },\n{\n            'v': 61,\n            'f': \"61\",\n        },\n{\n            'v': 0,\n            'f': \"0\",\n        }],\n [{\n            'v': 183,\n            'f': \"183\",\n        },\n\"GGG\",\n\"2013J\",\n{\n            'v': 37416,\n            'f': \"37416\",\n        },\n{\n            'v': 124,\n            'f': \"124\",\n        },\n{\n            'v': 0,\n            'f': \"0\",\n        }],\n [{\n            'v': 184,\n            'f': \"184\",\n        },\n\"GGG\",\n\"2013J\",\n{\n            'v': 37417,\n            'f': \"37417\",\n        },\n{\n            'v': 173,\n            'f': \"173\",\n        },\n{\n            'v': 0,\n            'f': \"0\",\n        }],\n [{\n            'v': 185,\n            'f': \"185\",\n        },\n\"GGG\",\n\"2013J\",\n{\n            'v': 37424,\n            'f': \"37424\",\n        },\n{\n            'v': 229,\n            'f': \"229\",\n        },\n{\n            'v': 100,\n            'f': \"100\",\n        }],\n [{\n            'v': 186,\n            'f': \"186\",\n        },\n\"GGG\",\n\"2014B\",\n{\n            'v': 37428,\n            'f': \"37428\",\n        },\n{\n            'v': 222,\n            'f': \"222\",\n        },\n{\n            'v': 0,\n            'f': \"0\",\n        }],\n [{\n            'v': 187,\n            'f': \"187\",\n        },\n\"GGG\",\n\"2014B\",\n{\n            'v': 37429,\n            'f': \"37429\",\n        },\n{\n            'v': 222,\n            'f': \"222\",\n        },\n{\n            'v': 0,\n            'f': \"0\",\n        }],\n [{\n            'v': 188,\n            'f': \"188\",\n        },\n\"GGG\",\n\"2014B\",\n{\n            'v': 37430,\n            'f': \"37430\",\n        },\n{\n            'v': 222,\n            'f': \"222\",\n        },\n{\n            'v': 0,\n            'f': \"0\",\n        }],\n [{\n            'v': 189,\n            'f': \"189\",\n        },\n\"GGG\",\n\"2014B\",\n{\n            'v': 37431,\n            'f': \"37431\",\n        },\n{\n            'v': 222,\n            'f': \"222\",\n        },\n{\n            'v': 0,\n            'f': \"0\",\n        }],\n [{\n            'v': 190,\n            'f': \"190\",\n        },\n\"GGG\",\n\"2014B\",\n{\n            'v': 37432,\n            'f': \"37432\",\n        },\n{\n            'v': 222,\n            'f': \"222\",\n        },\n{\n            'v': 0,\n            'f': \"0\",\n        }],\n [{\n            'v': 191,\n            'f': \"191\",\n        },\n\"GGG\",\n\"2014B\",\n{\n            'v': 37433,\n            'f': \"37433\",\n        },\n{\n            'v': 222,\n            'f': \"222\",\n        },\n{\n            'v': 0,\n            'f': \"0\",\n        }],\n [{\n            'v': 192,\n            'f': \"192\",\n        },\n\"GGG\",\n\"2014B\",\n{\n            'v': 37425,\n            'f': \"37425\",\n        },\n{\n            'v': 61,\n            'f': \"61\",\n        },\n{\n            'v': 0,\n            'f': \"0\",\n        }],\n [{\n            'v': 193,\n            'f': \"193\",\n        },\n\"GGG\",\n\"2014B\",\n{\n            'v': 37426,\n            'f': \"37426\",\n        },\n{\n            'v': 117,\n            'f': \"117\",\n        },\n{\n            'v': 0,\n            'f': \"0\",\n        }],\n [{\n            'v': 194,\n            'f': \"194\",\n        },\n\"GGG\",\n\"2014B\",\n{\n            'v': 37427,\n            'f': \"37427\",\n        },\n{\n            'v': 166,\n            'f': \"166\",\n        },\n{\n            'v': 0,\n            'f': \"0\",\n        }],\n [{\n            'v': 195,\n            'f': \"195\",\n        },\n\"GGG\",\n\"2014B\",\n{\n            'v': 37434,\n            'f': \"37434\",\n        },\n{\n            'v': 222,\n            'f': \"222\",\n        },\n{\n            'v': 100,\n            'f': \"100\",\n        }],\n [{\n            'v': 196,\n            'f': \"196\",\n        },\n\"GGG\",\n\"2014J\",\n{\n            'v': 37438,\n            'f': \"37438\",\n        },\n{\n            'v': 229,\n            'f': \"229\",\n        },\n{\n            'v': 0,\n            'f': \"0\",\n        }],\n [{\n            'v': 197,\n            'f': \"197\",\n        },\n\"GGG\",\n\"2014J\",\n{\n            'v': 37439,\n            'f': \"37439\",\n        },\n{\n            'v': 229,\n            'f': \"229\",\n        },\n{\n            'v': 0,\n            'f': \"0\",\n        }],\n [{\n            'v': 198,\n            'f': \"198\",\n        },\n\"GGG\",\n\"2014J\",\n{\n            'v': 37440,\n            'f': \"37440\",\n        },\n{\n            'v': 229,\n            'f': \"229\",\n        },\n{\n            'v': 0,\n            'f': \"0\",\n        }],\n [{\n            'v': 199,\n            'f': \"199\",\n        },\n\"GGG\",\n\"2014J\",\n{\n            'v': 37441,\n            'f': \"37441\",\n        },\n{\n            'v': 229,\n            'f': \"229\",\n        },\n{\n            'v': 0,\n            'f': \"0\",\n        }],\n [{\n            'v': 200,\n            'f': \"200\",\n        },\n\"GGG\",\n\"2014J\",\n{\n            'v': 37442,\n            'f': \"37442\",\n        },\n{\n            'v': 229,\n            'f': \"229\",\n        },\n{\n            'v': 0,\n            'f': \"0\",\n        }],\n [{\n            'v': 201,\n            'f': \"201\",\n        },\n\"GGG\",\n\"2014J\",\n{\n            'v': 37443,\n            'f': \"37443\",\n        },\n{\n            'v': 229,\n            'f': \"229\",\n        },\n{\n            'v': 0,\n            'f': \"0\",\n        }],\n [{\n            'v': 202,\n            'f': \"202\",\n        },\n\"GGG\",\n\"2014J\",\n{\n            'v': 37435,\n            'f': \"37435\",\n        },\n{\n            'v': 61,\n            'f': \"61\",\n        },\n{\n            'v': 0,\n            'f': \"0\",\n        }],\n [{\n            'v': 203,\n            'f': \"203\",\n        },\n\"GGG\",\n\"2014J\",\n{\n            'v': 37436,\n            'f': \"37436\",\n        },\n{\n            'v': 124,\n            'f': \"124\",\n        },\n{\n            'v': 0,\n            'f': \"0\",\n        }],\n [{\n            'v': 204,\n            'f': \"204\",\n        },\n\"GGG\",\n\"2014J\",\n{\n            'v': 37437,\n            'f': \"37437\",\n        },\n{\n            'v': 173,\n            'f': \"173\",\n        },\n{\n            'v': 0,\n            'f': \"0\",\n        }],\n [{\n            'v': 205,\n            'f': \"205\",\n        },\n\"GGG\",\n\"2014J\",\n{\n            'v': 37444,\n            'f': \"37444\",\n        },\n{\n            'v': 229,\n            'f': \"229\",\n        },\n{\n            'v': 100,\n            'f': \"100\",\n        }]],\n        columns: [[\"number\", \"index\"], [\"string\", \"code_module\"], [\"string\", \"code_presentation\"], [\"number\", \"id_assessment\"], [\"number\", \"date\"], [\"number\", \"weight\"]],\n        columnOptions: [{\"width\": \"1px\", \"className\": \"index_column\"}],\n        rowsPerPage: 25,\n        helpUrl: \"https://colab.research.google.com/notebooks/data_table.ipynb\",\n        suppressOutputScrolling: true,\n        minimumWidth: undefined,\n      });\n\n      function appendQuickchartButton(parentElement) {\n        let quickchartButtonContainerElement = document.createElement('div');\n        quickchartButtonContainerElement.innerHTML = `\n<div id=\"df-c2de41b4-c2d4-4d69-97d1-968c49488a79\">\n  <button class=\"colab-df-quickchart\" onclick=\"quickchart('df-c2de41b4-c2d4-4d69-97d1-968c49488a79')\"\n            title=\"Suggest charts\"\n            style=\"display:none;\">\n    \n<svg xmlns=\"http://www.w3.org/2000/svg\" height=\"24px\"viewBox=\"0 0 24 24\"\n     width=\"24px\">\n    <g>\n        <path d=\"M19 3H5c-1.1 0-2 .9-2 2v14c0 1.1.9 2 2 2h14c1.1 0 2-.9 2-2V5c0-1.1-.9-2-2-2zM9 17H7v-7h2v7zm4 0h-2V7h2v10zm4 0h-2v-4h2v4z\"/>\n    </g>\n</svg>\n  </button>\n  \n<style>\n  .colab-df-quickchart {\n      --bg-color: #E8F0FE;\n      --fill-color: #1967D2;\n      --hover-bg-color: #E2EBFA;\n      --hover-fill-color: #174EA6;\n      --disabled-fill-color: #AAA;\n      --disabled-bg-color: #DDD;\n  }\n\n  [theme=dark] .colab-df-quickchart {\n      --bg-color: #3B4455;\n      --fill-color: #D2E3FC;\n      --hover-bg-color: #434B5C;\n      --hover-fill-color: #FFFFFF;\n      --disabled-bg-color: #3B4455;\n      --disabled-fill-color: #666;\n  }\n\n  .colab-df-quickchart {\n    background-color: var(--bg-color);\n    border: none;\n    border-radius: 50%;\n    cursor: pointer;\n    display: none;\n    fill: var(--fill-color);\n    height: 32px;\n    padding: 0;\n    width: 32px;\n  }\n\n  .colab-df-quickchart:hover {\n    background-color: var(--hover-bg-color);\n    box-shadow: 0 1px 2px rgba(60, 64, 67, 0.3), 0 1px 3px 1px rgba(60, 64, 67, 0.15);\n    fill: var(--button-hover-fill-color);\n  }\n\n  .colab-df-quickchart-complete:disabled,\n  .colab-df-quickchart-complete:disabled:hover {\n    background-color: var(--disabled-bg-color);\n    fill: var(--disabled-fill-color);\n    box-shadow: none;\n  }\n\n  .colab-df-spinner {\n    border: 2px solid var(--fill-color);\n    border-color: transparent;\n    border-bottom-color: var(--fill-color);\n    animation:\n      spin 1s steps(1) infinite;\n  }\n\n  @keyframes spin {\n    0% {\n      border-color: transparent;\n      border-bottom-color: var(--fill-color);\n      border-left-color: var(--fill-color);\n    }\n    20% {\n      border-color: transparent;\n      border-left-color: var(--fill-color);\n      border-top-color: var(--fill-color);\n    }\n    30% {\n      border-color: transparent;\n      border-left-color: var(--fill-color);\n      border-top-color: var(--fill-color);\n      border-right-color: var(--fill-color);\n    }\n    40% {\n      border-color: transparent;\n      border-right-color: var(--fill-color);\n      border-top-color: var(--fill-color);\n    }\n    60% {\n      border-color: transparent;\n      border-right-color: var(--fill-color);\n    }\n    80% {\n      border-color: transparent;\n      border-right-color: var(--fill-color);\n      border-bottom-color: var(--fill-color);\n    }\n    90% {\n      border-color: transparent;\n      border-bottom-color: var(--fill-color);\n    }\n  }\n</style>\n\n  <script>\n    async function quickchart(key) {\n      const quickchartButtonEl =\n        document.querySelector('#' + key + ' button');\n      quickchartButtonEl.disabled = true;  // To prevent multiple clicks.\n      quickchartButtonEl.classList.add('colab-df-spinner');\n      try {\n        const charts = await google.colab.kernel.invokeFunction(\n            'suggestCharts', [key], {});\n      } catch (error) {\n        console.error('Error during call to suggestCharts:', error);\n      }\n      quickchartButtonEl.classList.remove('colab-df-spinner');\n      quickchartButtonEl.classList.add('colab-df-quickchart-complete');\n    }\n    (() => {\n      let quickchartButtonEl =\n        document.querySelector('#df-c2de41b4-c2d4-4d69-97d1-968c49488a79 button');\n      quickchartButtonEl.style.display =\n        google.colab.kernel.accessAllowed ? 'block' : 'none';\n    })();\n  </script>\n</div>`;\n        parentElement.appendChild(quickchartButtonContainerElement);\n      }\n\n      appendQuickchartButton(table);\n    "
          },
          "metadata": {},
          "execution_count": 4
        }
      ],
      "source": [
        "print(i1.isnull().sum())\n",
        "\n",
        "# Initialize SimpleImputer , you can use anyother but mean imputing is simple.\n",
        "imputer = SimpleImputer(strategy='mean')\n",
        "\n",
        "# Fit and transform data\n",
        "i1[['date']] = imputer.fit_transform(i1[['date']])\n",
        "\n",
        "#convert float to int to save memory\n",
        "i1['weight'] = i1['weight'].astype('int32')\n",
        "i1['date'] = i1['date'].astype('int32')\n",
        "\n",
        "i1 = i1.drop(['module_presentation_length'],axis=1)\n",
        "i1"
      ]
    },
    {
      "cell_type": "markdown",
      "metadata": {
        "id": "oPZ61UDNoIOp"
      },
      "source": [
        "# 2) student registration & course"
      ]
    },
    {
      "cell_type": "code",
      "execution_count": null,
      "metadata": {
        "id": "XkN46VN7k7Av"
      },
      "outputs": [],
      "source": [
        "SR2 = pd.read_csv(\"/content/drive/MyDrive/dataset_optimization_folder/studentRegistration.csv\")\n",
        "course2 = pd.read_csv(\"/content/drive/MyDrive/dataset_optimization_folder/courses.csv\")"
      ]
    },
    {
      "cell_type": "code",
      "execution_count": null,
      "metadata": {
        "id": "LhtHWv3yobD3"
      },
      "outputs": [],
      "source": [
        "i2 = pd.merge(SR2,course2,on=['code_module','code_presentation'],how = 'inner')"
      ]
    },
    {
      "cell_type": "code",
      "execution_count": null,
      "metadata": {
        "id": "jT9EZDqLowaJ"
      },
      "outputs": [],
      "source": [
        "i2['date_registration'].fillna(0,inplace=True)\n",
        "i2['date_unregistration'].fillna(i2['date_unregistration'].mean(),inplace=True)\n",
        "i2 = i2.drop(['module_presentation_length'],axis=1)"
      ]
    },
    {
      "cell_type": "markdown",
      "metadata": {
        "id": "w5_MjFjr1aQa"
      },
      "source": [
        "# 3) student assessment & 1"
      ]
    },
    {
      "cell_type": "code",
      "execution_count": null,
      "metadata": {
        "id": "GBD3DRSz1IRo"
      },
      "outputs": [],
      "source": [
        "SA3 = pd.read_csv(\"/content/drive/MyDrive/dataset_optimization_folder/studentAssessment.csv\")\n",
        "SA3 = SA3.drop(['is_banked'],axis=1)"
      ]
    },
    {
      "cell_type": "code",
      "execution_count": null,
      "metadata": {
        "id": "v754KVxc-FnB"
      },
      "outputs": [],
      "source": [
        "i3 = pd.merge(i1,SA3,on=['id_assessment'],how='inner')"
      ]
    },
    {
      "cell_type": "markdown",
      "metadata": {
        "id": "sIKzFox14UOQ"
      },
      "source": [
        "# 4) student info & 2"
      ]
    },
    {
      "cell_type": "code",
      "execution_count": null,
      "metadata": {
        "id": "9bojCDyj4Yrx"
      },
      "outputs": [],
      "source": [
        "SI4 = pd.read_csv(\"/content/drive/MyDrive/dataset_optimization_folder/studentInfo.csv\")"
      ]
    },
    {
      "cell_type": "code",
      "execution_count": null,
      "metadata": {
        "id": "jyk_Zfur5MgG"
      },
      "outputs": [],
      "source": [
        "i4 = pd.merge(i2, SI4, on=['code_module','code_presentation','id_student'],how='inner')"
      ]
    },
    {
      "cell_type": "code",
      "execution_count": null,
      "metadata": {
        "collapsed": true,
        "id": "sIwDtCdG7S_y"
      },
      "outputs": [],
      "source": [
        "i4.dropna(subset=['imd_band'], inplace=True)"
      ]
    },
    {
      "cell_type": "markdown",
      "metadata": {
        "id": "4BZBNvJX9tbn"
      },
      "source": [
        "# 5) 4&3"
      ]
    },
    {
      "cell_type": "code",
      "execution_count": null,
      "metadata": {
        "id": "q8wxCpoz9zLQ"
      },
      "outputs": [],
      "source": [
        "i5 = pd.merge(i3,i4,on=['code_module','code_presentation','id_student'],how='inner')"
      ]
    },
    {
      "cell_type": "code",
      "execution_count": null,
      "metadata": {
        "collapsed": true,
        "id": "BIcDHnWe-kWr"
      },
      "outputs": [],
      "source": [
        "# converting float64 into float32/int32 to save some storage space for easier computing\n",
        "\n",
        "i5['weight'] = i5['weight'].fillna(0).astype('int32')\n",
        "i5['date'] = i5['date'].fillna(i5['date'].mean()).astype('int32')\n",
        "i5['score'] = i5['score'].fillna(i5['score'].mean()).astype('int32')\n",
        "i5['date_unregistration'] = i5['date_unregistration'].astype('int32')\n",
        "i5['date_registration'] = i5['date_registration'].astype('int32')"
      ]
    },
    {
      "cell_type": "markdown",
      "source": [
        "save this file to our Gdrive storage"
      ],
      "metadata": {
        "id": "_I1Yj2O8JvyY"
      }
    },
    {
      "cell_type": "code",
      "execution_count": null,
      "metadata": {
        "id": "-nx8h9WrMq8c"
      },
      "outputs": [],
      "source": [
        "# may not really neccessary\n",
        "i5.to_csv('/content/drive/MyDrive/results/i5.csv')"
      ]
    },
    {
      "cell_type": "code",
      "source": [
        "# lets rename the i5 object\n",
        "data = i5"
      ],
      "metadata": {
        "id": "X1N2ZtDaL6uj"
      },
      "execution_count": null,
      "outputs": []
    },
    {
      "cell_type": "markdown",
      "source": [
        "# lets figure out the important features in the dataset"
      ],
      "metadata": {
        "id": "NF8_BZFNLT_8"
      }
    },
    {
      "cell_type": "code",
      "source": [
        "data['final_result'].unique()"
      ],
      "metadata": {
        "colab": {
          "base_uri": "https://localhost:8080/"
        },
        "id": "4hvVxbjeLZrF",
        "outputId": "3e50fa54-e309-4670-90e0-721d4cd288b2"
      },
      "execution_count": null,
      "outputs": [
        {
          "output_type": "execute_result",
          "data": {
            "text/plain": [
              "array(['Pass', 'Withdrawn', 'Fail', 'Distinction'], dtype=object)"
            ]
          },
          "metadata": {},
          "execution_count": 16
        }
      ]
    },
    {
      "cell_type": "markdown",
      "source": [
        ">changing the strings to numerical/binary values"
      ],
      "metadata": {
        "id": "DjLzbuCCLg4E"
      }
    },
    {
      "cell_type": "code",
      "source": [
        "lb_enc = LabelEncoder()\n",
        "#features\n",
        "data['code_module'] = lb_enc.fit_transform(data['code_module'])\n",
        "data['code_presentation'] = lb_enc.fit_transform(data['code_presentation'])\n",
        "data['gender'] = lb_enc.fit_transform(data['gender'])\n",
        "data['region'] = lb_enc.fit_transform(data['region'])\n",
        "data['highest_education'] = lb_enc.fit_transform(data['highest_education'])\n",
        "data['disability'] = lb_enc.fit_transform(data['disability'])\n",
        "#data = pd.get_dummies(data, columns=['code_module','code_presentation','gender','region','highest_education','disability'])\n",
        "\n",
        "#target\n",
        "data['final_result'] = lb_enc.fit_transform(data['final_result'])"
      ],
      "metadata": {
        "id": "4x6Jtd9nLbON"
      },
      "execution_count": null,
      "outputs": []
    },
    {
      "cell_type": "markdown",
      "source": [
        "> handling range values\n",
        "\n",
        "handling IMD_BAND column"
      ],
      "metadata": {
        "id": "jrCb4kvlLxFX"
      }
    },
    {
      "cell_type": "code",
      "source": [
        "# Split the 'imd_band' column into 'start_imd' and 'end_imd'\n",
        "data[['start_imd', 'end_imd']] = data['imd_band'].str.split('-', expand=True)\n",
        "\n",
        "# Remove '%' and convert to float\n",
        "data['start_imd'] = data['start_imd'].str.rstrip('%').astype(float)\n",
        "data['end_imd'] = data['end_imd'].str.rstrip('%').astype(float)\n",
        "\n",
        "# Calculate the average\n",
        "data['imd_avg'] = (data['start_imd'] + data['end_imd']) / 2\n",
        "data = data.drop(['start_imd','end_imd','imd_band'],axis=1)"
      ],
      "metadata": {
        "id": "lOmwYcJ3LpK6"
      },
      "execution_count": null,
      "outputs": []
    },
    {
      "cell_type": "markdown",
      "source": [
        "handling AGE column"
      ],
      "metadata": {
        "id": "Stdhc1K1MUWB"
      }
    },
    {
      "cell_type": "code",
      "source": [
        "def process_conditions(value):\n",
        "    if '-' in value:\n",
        "        start, end = map(int, value.split('-'))\n",
        "        return start+end/2\n",
        "    elif '<=' in value:\n",
        "        lower_bound = int(value.replace('<=', '').strip())\n",
        "        upper_bound = 100\n",
        "        return lower_bound+upper_bound/2\n",
        "    elif '>=' in value:\n",
        "        upper_bound = int(value.replace('<=', '').strip())\n",
        "        lower_bound = 0\n",
        "        return lower_bound+upper_bound/2\n",
        "    elif '<' in value:\n",
        "        lower_bound = int(value.replace('>', '').strip())\n",
        "        upper_bound = 100\n",
        "        return lower_bound+upper_bound/2\n",
        "    elif '>' in value:\n",
        "        upper_bound = int(value.replace('<', '').strip())\n",
        "        lower_bound = 0\n",
        "        return lower_bound+upper_bound/2\n",
        "    else:\n",
        "        value = int(value.strip())\n",
        "        return value\n",
        "\n",
        "\n",
        "\n",
        "data['age_band'] = data['age_band'].apply(lambda x: process_conditions(x))\n",
        "\n"
      ],
      "metadata": {
        "id": "p98b4h_jLtFM"
      },
      "execution_count": null,
      "outputs": []
    },
    {
      "cell_type": "markdown",
      "source": [
        "# feature selection overview"
      ],
      "metadata": {
        "id": "pjyjoaX8NGfc"
      }
    },
    {
      "cell_type": "markdown",
      "source": [
        "> correlation matrix"
      ],
      "metadata": {
        "id": "C4f3GcbdMfpc"
      }
    },
    {
      "cell_type": "code",
      "source": [
        "import seaborn as sns\n",
        "import matplotlib.pyplot as plt\n",
        "\n",
        "# Calculate the correlation matrix\n",
        "corr_matrix = data.corr()\n",
        "\n",
        "# Plot the heatmap\n",
        "plt.figure(figsize=(12, 8))\n",
        "sns.heatmap(corr_matrix, annot=False, cmap='coolwarm')\n",
        "plt.show()"
      ],
      "metadata": {
        "colab": {
          "base_uri": "https://localhost:8080/",
          "height": 827
        },
        "id": "9OHrK9jtMhsy",
        "outputId": "8156f3ab-e5c9-4346-cdcf-acff4a2c9789"
      },
      "execution_count": null,
      "outputs": [
        {
          "output_type": "display_data",
          "data": {
            "text/plain": [
              "<Figure size 1200x800 with 2 Axes>"
            ],
            "image/png": "[encoded data removed]"
          },
          "metadata": {}
        }
      ]
    },
    {
      "cell_type": "markdown",
      "source": [
        "\n",
        "\n",
        "> Random Forest identifier method\n",
        "\n"
      ],
      "metadata": {
        "id": "igVTMoSHNAuG"
      }
    },
    {
      "cell_type": "code",
      "source": [
        "from sklearn.ensemble import RandomForestClassifier\n",
        "\n",
        "\n",
        "# Load your dataset\n",
        "X = data.drop('final_result', axis=1)\n",
        "y = data['final_result']\n",
        "\n",
        "# Fit a Random Forest model\n",
        "model = RandomForestClassifier()\n",
        "model.fit(X, y)\n",
        "\n",
        "# Get feature importances\n",
        "importances = model.feature_importances_\n",
        "\n",
        "# Create a DataFrame for visualization\n",
        "feature_importances = pd.DataFrame({'feature': X.columns, 'importance': importances})\n",
        "feature_importances = feature_importances.sort_values('importance', ascending=False)\n",
        "\n",
        "print(feature_importances)"
      ],
      "metadata": {
        "colab": {
          "base_uri": "https://localhost:8080/"
        },
        "id": "cuecty-EMnF3",
        "outputId": "264501f0-38e6-4f94-af72-5cdcb7a3cfec"
      },
      "execution_count": null,
      "outputs": [
        {
          "output_type": "stream",
          "name": "stdout",
          "text": [
            "                 feature  importance\n",
            "9    date_unregistration    0.170115\n",
            "5             id_student    0.127519\n",
            "7                  score    0.126160\n",
            "8      date_registration    0.115161\n",
            "6         date_submitted    0.077739\n",
            "11                region    0.074852\n",
            "17               imd_avg    0.068130\n",
            "2          id_assessment    0.043282\n",
            "15       studied_credits    0.035592\n",
            "3                   date    0.032465\n",
            "12     highest_education    0.025180\n",
            "4                 weight    0.018811\n",
            "1      code_presentation    0.017805\n",
            "13              age_band    0.017020\n",
            "10                gender    0.016022\n",
            "0            code_module    0.012431\n",
            "16            disability    0.010908\n",
            "14  num_of_prev_attempts    0.010808\n"
          ]
        }
      ]
    },
    {
      "cell_type": "markdown",
      "source": [
        "\n",
        "\n",
        "> Recursive Feature Elimination\n",
        "\n"
      ],
      "metadata": {
        "id": "kf-K0ie6NUMo"
      }
    },
    {
      "cell_type": "code",
      "source": [
        "from sklearn.feature_selection import RFE\n",
        "from sklearn.ensemble import RandomForestClassifier\n",
        "\n",
        "# Load your dataset\n",
        "X = data.drop('final_result', axis=1)\n",
        "y = data['final_result']\n",
        "\n",
        "# Create a Random Forest Classifier\n",
        "model = RandomForestClassifier()\n",
        "\n",
        "# Select top 12 features\n",
        "rfe = RFE(model, n_features_to_select=12)\n",
        "fit = rfe.fit(X, y)\n",
        "\n",
        "#print those features\n",
        "for column, is_selected in zip(data.columns, fit.support_):\n",
        "    if is_selected:\n",
        "        print(column)"
      ],
      "metadata": {
        "colab": {
          "base_uri": "https://localhost:8080/",
          "height": 356
        },
        "id": "YdtoaN18M8l4",
        "outputId": "7f0d98a0-d2d4-42d6-a3aa-15f633561021"
      },
      "execution_count": null,
      "outputs": [
        {
          "output_type": "error",
          "ename": "KeyboardInterrupt",
          "evalue": "",
          "traceback": [
            "\u001b[0;31m---------------------------------------------------------------------------\u001b[0m",
            "\u001b[0;31mKeyboardInterrupt\u001b[0m                         Traceback (most recent call last)",
            "\u001b[0;32m<ipython-input-22-edbb73f844fa>\u001b[0m in \u001b[0;36m<cell line: 13>\u001b[0;34m()\u001b[0m\n\u001b[1;32m     11\u001b[0m \u001b[0;31m# Select top 12 features\u001b[0m\u001b[0;34m\u001b[0m\u001b[0;34m\u001b[0m\u001b[0m\n\u001b[1;32m     12\u001b[0m \u001b[0mrfe\u001b[0m \u001b[0;34m=\u001b[0m \u001b[0mRFE\u001b[0m\u001b[0;34m(\u001b[0m\u001b[0mmodel\u001b[0m\u001b[0;34m,\u001b[0m \u001b[0mn_features_to_select\u001b[0m\u001b[0;34m=\u001b[0m\u001b[0;36m12\u001b[0m\u001b[0;34m)\u001b[0m\u001b[0;34m\u001b[0m\u001b[0;34m\u001b[0m\u001b[0m\n\u001b[0;32m---> 13\u001b[0;31m \u001b[0mfit\u001b[0m \u001b[0;34m=\u001b[0m \u001b[0mrfe\u001b[0m\u001b[0;34m.\u001b[0m\u001b[0mfit\u001b[0m\u001b[0;34m(\u001b[0m\u001b[0mX\u001b[0m\u001b[0;34m,\u001b[0m \u001b[0my\u001b[0m\u001b[0;34m)\u001b[0m\u001b[0;34m\u001b[0m\u001b[0;34m\u001b[0m\u001b[0m\n\u001b[0m\u001b[1;32m     14\u001b[0m \u001b[0;34m\u001b[0m\u001b[0m\n\u001b[1;32m     15\u001b[0m \u001b[0;31m#print those features\u001b[0m\u001b[0;34m\u001b[0m\u001b[0;34m\u001b[0m\u001b[0m\n",
            "\u001b[0;32m/usr/local/lib/python3.10/dist-packages/sklearn/feature_selection/_rfe.py\u001b[0m in \u001b[0;36mfit\u001b[0;34m(self, X, y, **fit_params)\u001b[0m\n\u001b[1;32m    249\u001b[0m         \"\"\"\n\u001b[1;32m    250\u001b[0m         \u001b[0mself\u001b[0m\u001b[0;34m.\u001b[0m\u001b[0m_validate_params\u001b[0m\u001b[0;34m(\u001b[0m\u001b[0;34m)\u001b[0m\u001b[0;34m\u001b[0m\u001b[0;34m\u001b[0m\u001b[0m\n\u001b[0;32m--> 251\u001b[0;31m         \u001b[0;32mreturn\u001b[0m \u001b[0mself\u001b[0m\u001b[0;34m.\u001b[0m\u001b[0m_fit\u001b[0m\u001b[0;34m(\u001b[0m\u001b[0mX\u001b[0m\u001b[0;34m,\u001b[0m \u001b[0my\u001b[0m\u001b[0;34m,\u001b[0m \u001b[0;34m**\u001b[0m\u001b[0mfit_params\u001b[0m\u001b[0;34m)\u001b[0m\u001b[0;34m\u001b[0m\u001b[0;34m\u001b[0m\u001b[0m\n\u001b[0m\u001b[1;32m    252\u001b[0m \u001b[0;34m\u001b[0m\u001b[0m\n\u001b[1;32m    253\u001b[0m     \u001b[0;32mdef\u001b[0m \u001b[0m_fit\u001b[0m\u001b[0;34m(\u001b[0m\u001b[0mself\u001b[0m\u001b[0;34m,\u001b[0m \u001b[0mX\u001b[0m\u001b[0;34m,\u001b[0m \u001b[0my\u001b[0m\u001b[0;34m,\u001b[0m \u001b[0mstep_score\u001b[0m\u001b[0;34m=\u001b[0m\u001b[0;32mNone\u001b[0m\u001b[0;34m,\u001b[0m \u001b[0;34m**\u001b[0m\u001b[0mfit_params\u001b[0m\u001b[0;34m)\u001b[0m\u001b[0;34m:\u001b[0m\u001b[0;34m\u001b[0m\u001b[0;34m\u001b[0m\u001b[0m\n",
            "\u001b[0;32m/usr/local/lib/python3.10/dist-packages/sklearn/feature_selection/_rfe.py\u001b[0m in \u001b[0;36m_fit\u001b[0;34m(self, X, y, step_score, **fit_params)\u001b[0m\n\u001b[1;32m    297\u001b[0m                 \u001b[0mprint\u001b[0m\u001b[0;34m(\u001b[0m\u001b[0;34m\"Fitting estimator with %d features.\"\u001b[0m \u001b[0;34m%\u001b[0m \u001b[0mnp\u001b[0m\u001b[0;34m.\u001b[0m\u001b[0msum\u001b[0m\u001b[0;34m(\u001b[0m\u001b[0msupport_\u001b[0m\u001b[0;34m)\u001b[0m\u001b[0;34m)\u001b[0m\u001b[0;34m\u001b[0m\u001b[0;34m\u001b[0m\u001b[0m\n\u001b[1;32m    298\u001b[0m \u001b[0;34m\u001b[0m\u001b[0m\n\u001b[0;32m--> 299\u001b[0;31m             \u001b[0mestimator\u001b[0m\u001b[0;34m.\u001b[0m\u001b[0mfit\u001b[0m\u001b[0;34m(\u001b[0m\u001b[0mX\u001b[0m\u001b[0;34m[\u001b[0m\u001b[0;34m:\u001b[0m\u001b[0;34m,\u001b[0m \u001b[0mfeatures\u001b[0m\u001b[0;34m]\u001b[0m\u001b[0;34m,\u001b[0m \u001b[0my\u001b[0m\u001b[0;34m,\u001b[0m \u001b[0;34m**\u001b[0m\u001b[0mfit_params\u001b[0m\u001b[0;34m)\u001b[0m\u001b[0;34m\u001b[0m\u001b[0;34m\u001b[0m\u001b[0m\n\u001b[0m\u001b[1;32m    300\u001b[0m \u001b[0;34m\u001b[0m\u001b[0m\n\u001b[1;32m    301\u001b[0m             \u001b[0;31m# Get importance and rank them\u001b[0m\u001b[0;34m\u001b[0m\u001b[0;34m\u001b[0m\u001b[0m\n",
            "\u001b[0;32m/usr/local/lib/python3.10/dist-packages/sklearn/ensemble/_forest.py\u001b[0m in \u001b[0;36mfit\u001b[0;34m(self, X, y, sample_weight)\u001b[0m\n\u001b[1;32m    471\u001b[0m             \u001b[0;31m# parallel_backend contexts set at a higher level,\u001b[0m\u001b[0;34m\u001b[0m\u001b[0;34m\u001b[0m\u001b[0m\n\u001b[1;32m    472\u001b[0m             \u001b[0;31m# since correctness does not rely on using threads.\u001b[0m\u001b[0;34m\u001b[0m\u001b[0;34m\u001b[0m\u001b[0m\n\u001b[0;32m--> 473\u001b[0;31m             trees = Parallel(\n\u001b[0m\u001b[1;32m    474\u001b[0m                 \u001b[0mn_jobs\u001b[0m\u001b[0;34m=\u001b[0m\u001b[0mself\u001b[0m\u001b[0;34m.\u001b[0m\u001b[0mn_jobs\u001b[0m\u001b[0;34m,\u001b[0m\u001b[0;34m\u001b[0m\u001b[0;34m\u001b[0m\u001b[0m\n\u001b[1;32m    475\u001b[0m                 \u001b[0mverbose\u001b[0m\u001b[0;34m=\u001b[0m\u001b[0mself\u001b[0m\u001b[0;34m.\u001b[0m\u001b[0mverbose\u001b[0m\u001b[0;34m,\u001b[0m\u001b[0;34m\u001b[0m\u001b[0;34m\u001b[0m\u001b[0m\n",
            "\u001b[0;32m/usr/local/lib/python3.10/dist-packages/sklearn/utils/parallel.py\u001b[0m in \u001b[0;36m__call__\u001b[0;34m(self, iterable)\u001b[0m\n\u001b[1;32m     61\u001b[0m             \u001b[0;32mfor\u001b[0m \u001b[0mdelayed_func\u001b[0m\u001b[0;34m,\u001b[0m \u001b[0margs\u001b[0m\u001b[0;34m,\u001b[0m \u001b[0mkwargs\u001b[0m \u001b[0;32min\u001b[0m \u001b[0miterable\u001b[0m\u001b[0;34m\u001b[0m\u001b[0;34m\u001b[0m\u001b[0m\n\u001b[1;32m     62\u001b[0m         )\n\u001b[0;32m---> 63\u001b[0;31m         \u001b[0;32mreturn\u001b[0m \u001b[0msuper\u001b[0m\u001b[0;34m(\u001b[0m\u001b[0;34m)\u001b[0m\u001b[0;34m.\u001b[0m\u001b[0m__call__\u001b[0m\u001b[0;34m(\u001b[0m\u001b[0miterable_with_config\u001b[0m\u001b[0;34m)\u001b[0m\u001b[0;34m\u001b[0m\u001b[0;34m\u001b[0m\u001b[0m\n\u001b[0m\u001b[1;32m     64\u001b[0m \u001b[0;34m\u001b[0m\u001b[0m\n\u001b[1;32m     65\u001b[0m \u001b[0;34m\u001b[0m\u001b[0m\n",
            "\u001b[0;32m/usr/local/lib/python3.10/dist-packages/joblib/parallel.py\u001b[0m in \u001b[0;36m__call__\u001b[0;34m(self, iterable)\u001b[0m\n\u001b[1;32m   1916\u001b[0m             \u001b[0moutput\u001b[0m \u001b[0;34m=\u001b[0m \u001b[0mself\u001b[0m\u001b[0;34m.\u001b[0m\u001b[0m_get_sequential_output\u001b[0m\u001b[0;34m(\u001b[0m\u001b[0miterable\u001b[0m\u001b[0;34m)\u001b[0m\u001b[0;34m\u001b[0m\u001b[0;34m\u001b[0m\u001b[0m\n\u001b[1;32m   1917\u001b[0m             \u001b[0mnext\u001b[0m\u001b[0;34m(\u001b[0m\u001b[0moutput\u001b[0m\u001b[0;34m)\u001b[0m\u001b[0;34m\u001b[0m\u001b[0;34m\u001b[0m\u001b[0m\n\u001b[0;32m-> 1918\u001b[0;31m             \u001b[0;32mreturn\u001b[0m \u001b[0moutput\u001b[0m \u001b[0;32mif\u001b[0m \u001b[0mself\u001b[0m\u001b[0;34m.\u001b[0m\u001b[0mreturn_generator\u001b[0m \u001b[0;32melse\u001b[0m \u001b[0mlist\u001b[0m\u001b[0;34m(\u001b[0m\u001b[0moutput\u001b[0m\u001b[0;34m)\u001b[0m\u001b[0;34m\u001b[0m\u001b[0;34m\u001b[0m\u001b[0m\n\u001b[0m\u001b[1;32m   1919\u001b[0m \u001b[0;34m\u001b[0m\u001b[0m\n\u001b[1;32m   1920\u001b[0m         \u001b[0;31m# Let's create an ID that uniquely identifies the current call. If the\u001b[0m\u001b[0;34m\u001b[0m\u001b[0;34m\u001b[0m\u001b[0m\n",
            "\u001b[0;32m/usr/local/lib/python3.10/dist-packages/joblib/parallel.py\u001b[0m in \u001b[0;36m_get_sequential_output\u001b[0;34m(self, iterable)\u001b[0m\n\u001b[1;32m   1845\u001b[0m                 \u001b[0mself\u001b[0m\u001b[0;34m.\u001b[0m\u001b[0mn_dispatched_batches\u001b[0m \u001b[0;34m+=\u001b[0m \u001b[0;36m1\u001b[0m\u001b[0;34m\u001b[0m\u001b[0;34m\u001b[0m\u001b[0m\n\u001b[1;32m   1846\u001b[0m                 \u001b[0mself\u001b[0m\u001b[0;34m.\u001b[0m\u001b[0mn_dispatched_tasks\u001b[0m \u001b[0;34m+=\u001b[0m \u001b[0;36m1\u001b[0m\u001b[0;34m\u001b[0m\u001b[0;34m\u001b[0m\u001b[0m\n\u001b[0;32m-> 1847\u001b[0;31m                 \u001b[0mres\u001b[0m \u001b[0;34m=\u001b[0m \u001b[0mfunc\u001b[0m\u001b[0;34m(\u001b[0m\u001b[0;34m*\u001b[0m\u001b[0margs\u001b[0m\u001b[0;34m,\u001b[0m \u001b[0;34m**\u001b[0m\u001b[0mkwargs\u001b[0m\u001b[0;34m)\u001b[0m\u001b[0;34m\u001b[0m\u001b[0;34m\u001b[0m\u001b[0m\n\u001b[0m\u001b[1;32m   1848\u001b[0m                 \u001b[0mself\u001b[0m\u001b[0;34m.\u001b[0m\u001b[0mn_completed_tasks\u001b[0m \u001b[0;34m+=\u001b[0m \u001b[0;36m1\u001b[0m\u001b[0;34m\u001b[0m\u001b[0;34m\u001b[0m\u001b[0m\n\u001b[1;32m   1849\u001b[0m                 \u001b[0mself\u001b[0m\u001b[0;34m.\u001b[0m\u001b[0mprint_progress\u001b[0m\u001b[0;34m(\u001b[0m\u001b[0;34m)\u001b[0m\u001b[0;34m\u001b[0m\u001b[0;34m\u001b[0m\u001b[0m\n",
            "\u001b[0;32m/usr/local/lib/python3.10/dist-packages/sklearn/utils/parallel.py\u001b[0m in \u001b[0;36m__call__\u001b[0;34m(self, *args, **kwargs)\u001b[0m\n\u001b[1;32m    121\u001b[0m             \u001b[0mconfig\u001b[0m \u001b[0;34m=\u001b[0m \u001b[0;34m{\u001b[0m\u001b[0;34m}\u001b[0m\u001b[0;34m\u001b[0m\u001b[0;34m\u001b[0m\u001b[0m\n\u001b[1;32m    122\u001b[0m         \u001b[0;32mwith\u001b[0m \u001b[0mconfig_context\u001b[0m\u001b[0;34m(\u001b[0m\u001b[0;34m**\u001b[0m\u001b[0mconfig\u001b[0m\u001b[0;34m)\u001b[0m\u001b[0;34m:\u001b[0m\u001b[0;34m\u001b[0m\u001b[0;34m\u001b[0m\u001b[0m\n\u001b[0;32m--> 123\u001b[0;31m             \u001b[0;32mreturn\u001b[0m \u001b[0mself\u001b[0m\u001b[0;34m.\u001b[0m\u001b[0mfunction\u001b[0m\u001b[0;34m(\u001b[0m\u001b[0;34m*\u001b[0m\u001b[0margs\u001b[0m\u001b[0;34m,\u001b[0m \u001b[0;34m**\u001b[0m\u001b[0mkwargs\u001b[0m\u001b[0;34m)\u001b[0m\u001b[0;34m\u001b[0m\u001b[0;34m\u001b[0m\u001b[0m\n\u001b[0m",
            "\u001b[0;32m/usr/local/lib/python3.10/dist-packages/sklearn/ensemble/_forest.py\u001b[0m in \u001b[0;36m_parallel_build_trees\u001b[0;34m(tree, bootstrap, X, y, sample_weight, tree_idx, n_trees, verbose, class_weight, n_samples_bootstrap)\u001b[0m\n\u001b[1;32m    182\u001b[0m             \u001b[0mcurr_sample_weight\u001b[0m \u001b[0;34m*=\u001b[0m \u001b[0mcompute_sample_weight\u001b[0m\u001b[0;34m(\u001b[0m\u001b[0;34m\"balanced\"\u001b[0m\u001b[0;34m,\u001b[0m \u001b[0my\u001b[0m\u001b[0;34m,\u001b[0m \u001b[0mindices\u001b[0m\u001b[0;34m=\u001b[0m\u001b[0mindices\u001b[0m\u001b[0;34m)\u001b[0m\u001b[0;34m\u001b[0m\u001b[0;34m\u001b[0m\u001b[0m\n\u001b[1;32m    183\u001b[0m \u001b[0;34m\u001b[0m\u001b[0m\n\u001b[0;32m--> 184\u001b[0;31m         \u001b[0mtree\u001b[0m\u001b[0;34m.\u001b[0m\u001b[0mfit\u001b[0m\u001b[0;34m(\u001b[0m\u001b[0mX\u001b[0m\u001b[0;34m,\u001b[0m \u001b[0my\u001b[0m\u001b[0;34m,\u001b[0m \u001b[0msample_weight\u001b[0m\u001b[0;34m=\u001b[0m\u001b[0mcurr_sample_weight\u001b[0m\u001b[0;34m,\u001b[0m \u001b[0mcheck_input\u001b[0m\u001b[0;34m=\u001b[0m\u001b[0;32mFalse\u001b[0m\u001b[0;34m)\u001b[0m\u001b[0;34m\u001b[0m\u001b[0;34m\u001b[0m\u001b[0m\n\u001b[0m\u001b[1;32m    185\u001b[0m     \u001b[0;32melse\u001b[0m\u001b[0;34m:\u001b[0m\u001b[0;34m\u001b[0m\u001b[0;34m\u001b[0m\u001b[0m\n\u001b[1;32m    186\u001b[0m         \u001b[0mtree\u001b[0m\u001b[0;34m.\u001b[0m\u001b[0mfit\u001b[0m\u001b[0;34m(\u001b[0m\u001b[0mX\u001b[0m\u001b[0;34m,\u001b[0m \u001b[0my\u001b[0m\u001b[0;34m,\u001b[0m \u001b[0msample_weight\u001b[0m\u001b[0;34m=\u001b[0m\u001b[0msample_weight\u001b[0m\u001b[0;34m,\u001b[0m \u001b[0mcheck_input\u001b[0m\u001b[0;34m=\u001b[0m\u001b[0;32mFalse\u001b[0m\u001b[0;34m)\u001b[0m\u001b[0;34m\u001b[0m\u001b[0;34m\u001b[0m\u001b[0m\n",
            "\u001b[0;32m/usr/local/lib/python3.10/dist-packages/sklearn/tree/_classes.py\u001b[0m in \u001b[0;36mfit\u001b[0;34m(self, X, y, sample_weight, check_input)\u001b[0m\n\u001b[1;32m    887\u001b[0m         \"\"\"\n\u001b[1;32m    888\u001b[0m \u001b[0;34m\u001b[0m\u001b[0m\n\u001b[0;32m--> 889\u001b[0;31m         super().fit(\n\u001b[0m\u001b[1;32m    890\u001b[0m             \u001b[0mX\u001b[0m\u001b[0;34m,\u001b[0m\u001b[0;34m\u001b[0m\u001b[0;34m\u001b[0m\u001b[0m\n\u001b[1;32m    891\u001b[0m             \u001b[0my\u001b[0m\u001b[0;34m,\u001b[0m\u001b[0;34m\u001b[0m\u001b[0;34m\u001b[0m\u001b[0m\n",
            "\u001b[0;32m/usr/local/lib/python3.10/dist-packages/sklearn/tree/_classes.py\u001b[0m in \u001b[0;36mfit\u001b[0;34m(self, X, y, sample_weight, check_input)\u001b[0m\n\u001b[1;32m    377\u001b[0m             )\n\u001b[1;32m    378\u001b[0m \u001b[0;34m\u001b[0m\u001b[0m\n\u001b[0;32m--> 379\u001b[0;31m         \u001b[0mbuilder\u001b[0m\u001b[0;34m.\u001b[0m\u001b[0mbuild\u001b[0m\u001b[0;34m(\u001b[0m\u001b[0mself\u001b[0m\u001b[0;34m.\u001b[0m\u001b[0mtree_\u001b[0m\u001b[0;34m,\u001b[0m \u001b[0mX\u001b[0m\u001b[0;34m,\u001b[0m \u001b[0my\u001b[0m\u001b[0;34m,\u001b[0m \u001b[0msample_weight\u001b[0m\u001b[0;34m)\u001b[0m\u001b[0;34m\u001b[0m\u001b[0;34m\u001b[0m\u001b[0m\n\u001b[0m\u001b[1;32m    380\u001b[0m \u001b[0;34m\u001b[0m\u001b[0m\n\u001b[1;32m    381\u001b[0m         \u001b[0;32mif\u001b[0m \u001b[0mself\u001b[0m\u001b[0;34m.\u001b[0m\u001b[0mn_outputs_\u001b[0m \u001b[0;34m==\u001b[0m \u001b[0;36m1\u001b[0m \u001b[0;32mand\u001b[0m \u001b[0mis_classifier\u001b[0m\u001b[0;34m(\u001b[0m\u001b[0mself\u001b[0m\u001b[0;34m)\u001b[0m\u001b[0;34m:\u001b[0m\u001b[0;34m\u001b[0m\u001b[0;34m\u001b[0m\u001b[0m\n",
            "\u001b[0;31mKeyboardInterrupt\u001b[0m: "
          ]
        }
      ]
    },
    {
      "cell_type": "code",
      "source": [
        "data = data.drop(['age_band','code_presentation','gender','code_module','num_of_prev_attempts','disability'],axis=1)"
      ],
      "metadata": {
        "id": "ufxkYpqzOJ5g"
      },
      "execution_count": null,
      "outputs": []
    },
    {
      "cell_type": "code",
      "source": [
        "#get dummy fields for the features.\n",
        "data = pd.get_dummies(data, columns=['region','highest_education'])"
      ],
      "metadata": {
        "id": "SERyjmdFNsvb"
      },
      "execution_count": null,
      "outputs": []
    },
    {
      "cell_type": "code",
      "source": [
        "data.isnull().sum()"
      ],
      "metadata": {
        "colab": {
          "base_uri": "https://localhost:8080/"
        },
        "id": "enP7OsDuTcXd",
        "outputId": "7132b7c5-1156-4767-956e-c9a7bbc09338"
      },
      "execution_count": null,
      "outputs": [
        {
          "output_type": "execute_result",
          "data": {
            "text/plain": [
              "id_assessment          0\n",
              "date                   0\n",
              "weight                 0\n",
              "id_student             0\n",
              "date_submitted         0\n",
              "score                  0\n",
              "date_registration      0\n",
              "date_unregistration    0\n",
              "studied_credits        0\n",
              "final_result           0\n",
              "imd_avg                0\n",
              "region_0               0\n",
              "region_1               0\n",
              "region_2               0\n",
              "region_3               0\n",
              "region_4               0\n",
              "region_5               0\n",
              "region_6               0\n",
              "region_7               0\n",
              "region_8               0\n",
              "region_9               0\n",
              "region_10              0\n",
              "region_11              0\n",
              "region_12              0\n",
              "highest_education_0    0\n",
              "highest_education_1    0\n",
              "highest_education_2    0\n",
              "highest_education_3    0\n",
              "highest_education_4    0\n",
              "dtype: int64"
            ]
          },
          "metadata": {},
          "execution_count": 25
        }
      ]
    },
    {
      "cell_type": "code",
      "source": [
        "data.to_csv(\"/content/drive/MyDrive/results/i5_final_dataset.csv\")"
      ],
      "metadata": {
        "id": "Xdr_1NciO6dF"
      },
      "execution_count": null,
      "outputs": []
    }
  ],
  "metadata": {
    "colab": {
      "provenance": []
    },
    "kernelspec": {
      "display_name": "Python 3",
      "name": "python3"
    },
    "language_info": {
      "name": "python"
    }
  },
  "nbformat": 4,
  "nbformat_minor": 0
}